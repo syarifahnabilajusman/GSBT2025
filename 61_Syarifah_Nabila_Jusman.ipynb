{
  "cells": [
    {
      "cell_type": "markdown",
      "id": "4d4547e6",
      "metadata": {
        "id": "4d4547e6"
      },
      "source": [
        "# Hands-On Practice"
      ]
    },
    {
      "cell_type": "markdown",
      "id": "36fdee04",
      "metadata": {
        "id": "36fdee04"
      },
      "source": [
        "## Variables, Arithmetics, & Comparison\n"
      ]
    },
    {
      "cell_type": "markdown",
      "id": "9bcc673e",
      "metadata": {
        "id": "9bcc673e"
      },
      "source": [
        "**Tugas 1:**  \n",
        "Tetapkan nilai berikut ke dalam variabel:\n",
        "- Sebuah integer ke `students_count`  \n",
        "- Sebuah float ke `rating`  \n",
        "- Sebuah boolean ke `is_published`  \n",
        "- Sebuah string ke `course_name`"
      ]
    },
    {
      "cell_type": "code",
      "execution_count": 110,
      "id": "ee635439",
      "metadata": {
        "id": "ee635439",
        "colab": {
          "base_uri": "https://localhost:8080/"
        },
        "outputId": "7875d050-df08-4ac1-9916-83c2ad0d9cdd"
      },
      "outputs": [
        {
          "output_type": "stream",
          "name": "stdout",
          "text": [
            "100\n",
            "4.24\n",
            "True\n",
            "GSB-T\n"
          ]
        }
      ],
      "source": [
        "# Write your code here\n",
        "students_count = 100\n",
        "rating = 4.24\n",
        "is_published = True\n",
        "course_name =\"GSB-T\"\n",
        "\n",
        "print(students_count)\n",
        "print(rating)\n",
        "print(is_published)\n",
        "print(course_name)"
      ]
    },
    {
      "cell_type": "markdown",
      "id": "862fa435",
      "metadata": {
        "id": "862fa435"
      },
      "source": [
        "**Tugas 2:**  \n",
        "Gunakan `students_count` dan `rating` untuk menghitung:\n",
        "- `total_score = students_count * rating`  \n",
        "- `average_score = total_score / 2`"
      ]
    },
    {
      "cell_type": "code",
      "source": [
        "total_score = students_count * rating\n",
        "average_score = total_score / 2\n",
        "\n",
        "print(\"Total Score:\", total_score)\n",
        "print(\"Average Score:\", average_score)"
      ],
      "metadata": {
        "colab": {
          "base_uri": "https://localhost:8080/"
        },
        "id": "6Aq1Gm2s4SdH",
        "outputId": "5b53c003-1f56-4de3-95c8-88a537401c9f"
      },
      "id": "6Aq1Gm2s4SdH",
      "execution_count": 113,
      "outputs": [
        {
          "output_type": "stream",
          "name": "stdout",
          "text": [
            "Total Score: 424.0\n",
            "Average Score: 212.0\n"
          ]
        }
      ]
    },
    {
      "cell_type": "markdown",
      "id": "0bdd23f8",
      "metadata": {
        "id": "0bdd23f8"
      },
      "source": [
        "**Tugas 3:**  \n",
        "Periksa apakah `rating` lebih besar dari `4.0`.  \n",
        "Simpan hasilnya dalam variabel bernama `is_high_rating`."
      ]
    },
    {
      "cell_type": "code",
      "execution_count": 114,
      "id": "bbf8e245",
      "metadata": {
        "id": "bbf8e245",
        "colab": {
          "base_uri": "https://localhost:8080/"
        },
        "outputId": "7dba9e84-2684-46ee-f121-0006c54c637a"
      },
      "outputs": [
        {
          "output_type": "stream",
          "name": "stdout",
          "text": [
            "Nama Course: GSB-T\n",
            "Jumlah Siswa: 100\n",
            "Rating: 4.24\n",
            "Dipublikasikan: True\n",
            "Total Score: 424.0\n",
            "Average Score: 212.0\n",
            "Apakah rating tinggi?: True\n"
          ]
        }
      ],
      "source": [
        "is_high_rating = rating > 4.0\n",
        "\n",
        "print(\"Nama Course:\", course_name)\n",
        "print(\"Jumlah Siswa:\", students_count)\n",
        "print(\"Rating:\", rating)\n",
        "print(\"Dipublikasikan:\", is_published)\n",
        "print(\"Total Score:\", total_score)\n",
        "print(\"Average Score:\", average_score)\n",
        "print(\"Apakah rating tinggi?:\", is_high_rating)\n"
      ]
    },
    {
      "cell_type": "markdown",
      "id": "410c6db4",
      "metadata": {
        "id": "410c6db4"
      },
      "source": [
        "**Tugas 4:**  \n",
        "Gunakan `students_count` dan periksa apakah nilainya setelah dikalikan dua lebih kecil dari `5000`.  \n",
        "Simpan hasilnya dalam variabel bernama `is_small_course`."
      ]
    },
    {
      "cell_type": "code",
      "execution_count": 115,
      "id": "5f58f48e",
      "metadata": {
        "id": "5f58f48e",
        "colab": {
          "base_uri": "https://localhost:8080/"
        },
        "outputId": "17136512-d849-451a-a168-314adcb8afc8"
      },
      "outputs": [
        {
          "output_type": "stream",
          "name": "stdout",
          "text": [
            "is_small_couse\n",
            "Apakah jumlah siswa kecil?: True\n"
          ]
        }
      ],
      "source": [
        "is_small_course = (students_count * 2) < 5000\n",
        "print(\"is_small_couse\")\n",
        "print(\"Apakah jumlah siswa kecil?:\", is_small_course)"
      ]
    },
    {
      "cell_type": "markdown",
      "id": "304685e8",
      "metadata": {
        "id": "304685e8"
      },
      "source": [
        "**Tugas 5:**  \n",
        "Diberikan:\n",
        "\n",
        "```python\n",
        "a = 5\n",
        "b = 10\n",
        "```\n",
        "\n",
        "Tukar nilai dari `a` dan `b`."
      ]
    },
    {
      "cell_type": "code",
      "execution_count": 116,
      "id": "6ba6b92b",
      "metadata": {
        "id": "6ba6b92b",
        "colab": {
          "base_uri": "https://localhost:8080/"
        },
        "outputId": "177eff94-3c0c-4084-f33f-40746e8ae8ab"
      },
      "outputs": [
        {
          "output_type": "stream",
          "name": "stdout",
          "text": [
            "a = 10\n",
            "b = 5\n"
          ]
        }
      ],
      "source": [
        "# Write your code here\n",
        "a = 5\n",
        "b = 10\n",
        "\n",
        "a, b = b, a\n",
        "\n",
        "print(\"a =\", a)\n",
        "print(\"b =\", b)"
      ]
    },
    {
      "cell_type": "markdown",
      "id": "bf284dc0",
      "metadata": {
        "id": "bf284dc0"
      },
      "source": [
        "## Strings"
      ]
    },
    {
      "cell_type": "markdown",
      "id": "c5767d9b",
      "metadata": {
        "id": "c5767d9b"
      },
      "source": [
        "**Tugas 1:**  \n",
        "Buat string bernama `quote` yang berisi teks:  \n",
        "`Ali said \"Python is fun\"`  \n",
        "Pastikan kamu menggunakan escape sequence yang benar."
      ]
    },
    {
      "cell_type": "code",
      "execution_count": 117,
      "id": "b6c17152",
      "metadata": {
        "id": "b6c17152",
        "colab": {
          "base_uri": "https://localhost:8080/"
        },
        "outputId": "e0f8a688-4d50-43d2-a554-842fd87ba11f"
      },
      "outputs": [
        {
          "output_type": "stream",
          "name": "stdout",
          "text": [
            "Ali said \"Python is fun\"\n"
          ]
        }
      ],
      "source": [
        "# Write your code here\n",
        "quote = \"Ali said \\\"Python is fun\\\"\"\n",
        "\n",
        "print(quote)"
      ]
    },
    {
      "cell_type": "markdown",
      "id": "bd8c3a90",
      "metadata": {
        "id": "bd8c3a90"
      },
      "source": [
        "**Tugas 2:**  \n",
        "Diberikan string berikut:\n",
        "\n",
        "```python\n",
        "course = \"Python Programming\"\n",
        "```\n",
        "\n",
        "Gunakan slicing untuk mengekstrak:\n",
        "- `\"Python\"` dan simpan ke dalam variabel `language`\n",
        "- `\"Programming\"` dan simpan ke dalam variabel `subject`"
      ]
    },
    {
      "cell_type": "code",
      "execution_count": 118,
      "id": "2ea49581",
      "metadata": {
        "id": "2ea49581"
      },
      "outputs": [],
      "source": [
        "# Write your code here\n",
        "course = \"Python Programming\""
      ]
    },
    {
      "cell_type": "code",
      "source": [
        "print(\"Indexing:\")\n",
        "print(course[1])   # 'P'\n",
        "print(course[-1])  # 'g' (last character)"
      ],
      "metadata": {
        "colab": {
          "base_uri": "https://localhost:8080/"
        },
        "id": "UfVrtmr29M2Z",
        "outputId": "0130188d-7d82-4ad5-faf7-09b6324cdb37"
      },
      "id": "UfVrtmr29M2Z",
      "execution_count": 119,
      "outputs": [
        {
          "output_type": "stream",
          "name": "stdout",
          "text": [
            "Indexing:\n",
            "y\n",
            "g\n"
          ]
        }
      ]
    },
    {
      "cell_type": "code",
      "source": [
        "print(\"Slicing:\")\n",
        "print(course[0:6])    # 'Python'\n",
        "print(course[:6])     # 'Python'\n",
        "print(course[7:])     # 'programing'\n",
        "print(course)     # 'Programming'"
      ],
      "metadata": {
        "colab": {
          "base_uri": "https://localhost:8080/"
        },
        "id": "cwtqi87n9ddo",
        "outputId": "63f7c293-e318-4f7d-eea8-f16ba6ced757"
      },
      "id": "cwtqi87n9ddo",
      "execution_count": 120,
      "outputs": [
        {
          "output_type": "stream",
          "name": "stdout",
          "text": [
            "Slicing:\n",
            "Python\n",
            "Python\n",
            "Programming\n",
            "Python Programming\n"
          ]
        }
      ]
    },
    {
      "cell_type": "markdown",
      "id": "77d04899",
      "metadata": {
        "id": "77d04899"
      },
      "source": [
        "**Tugas 3:**  \n",
        "Diberikan `name = \"  ali fazli  \"`, gunakan method string untuk:\n",
        "- Menghapus spasi berlebih di awal dan akhir  \n",
        "- Membuat huruf pertama setiap kata menjadi kapital  \n",
        "- Simpan hasil akhirnya ke dalam variabel `clean_name`"
      ]
    },
    {
      "cell_type": "code",
      "execution_count": 121,
      "id": "890cc8f2",
      "metadata": {
        "id": "890cc8f2",
        "colab": {
          "base_uri": "https://localhost:8080/"
        },
        "outputId": "7f7da578-3491-4d6f-fdfc-660e9976584f"
      },
      "outputs": [
        {
          "output_type": "stream",
          "name": "stdout",
          "text": [
            "Ali Fazli\n"
          ]
        }
      ],
      "source": [
        "# Write your code here\n",
        "name = \" ali fazli \"\n",
        "\n",
        "clean_name = name.strip().title()\n",
        "\n",
        "print(clean_name)"
      ]
    },
    {
      "cell_type": "markdown",
      "id": "71eda61f",
      "metadata": {
        "id": "71eda61f"
      },
      "source": [
        "**Tugas 4:**  \n",
        "Diberikan `sentence = \"I love Java. Java is cool.\"`, lakukan hal berikut:\n",
        "- Temukan indeks kemunculan pertama dari `\"Java\"`  \n",
        "- Ganti semua `\"Java\"` dengan `\"Python\"`"
      ]
    },
    {
      "cell_type": "code",
      "execution_count": 122,
      "id": "e2f1a8c1",
      "metadata": {
        "id": "e2f1a8c1",
        "colab": {
          "base_uri": "https://localhost:8080/"
        },
        "outputId": "b194dd53-93ba-464c-8cbe-a82124cbcfed"
      },
      "outputs": [
        {
          "output_type": "stream",
          "name": "stdout",
          "text": [
            "Indeks kemunculan pertama 'Java': 7\n",
            "Kalimat baru: I love Python. Python is cool.\n"
          ]
        }
      ],
      "source": [
        "# Write your code here\n",
        "sentence = \"I love Java. Java is cool.\"\n",
        "first_index = sentence.find(\"Java\")\n",
        "print(\"Indeks kemunculan pertama 'Java':\", first_index)\n",
        "\n",
        "new_sentence = sentence.replace(\"Java\", \"Python\")\n",
        "print(\"Kalimat baru:\", new_sentence)"
      ]
    },
    {
      "cell_type": "markdown",
      "id": "d263c3b1",
      "metadata": {
        "id": "d263c3b1"
      },
      "source": [
        "**Tugas 5:**  \n",
        "Diberikan:\n",
        "\n",
        "```python\n",
        "name = \"Ali\"\n",
        "age = 20\n",
        "```\n",
        "\n",
        "Buat formatted string yang menghasilkan:\n",
        "- `\"My name is Ali and I am 20 years old.\"`\n",
        "- Simpan hasilnya ke dalam variabel `message`"
      ]
    },
    {
      "cell_type": "code",
      "execution_count": 40,
      "id": "ff7531a3",
      "metadata": {
        "id": "ff7531a3",
        "colab": {
          "base_uri": "https://localhost:8080/"
        },
        "outputId": "a39dbb47-8dd9-456f-ed81-d2033327a702"
      },
      "outputs": [
        {
          "output_type": "stream",
          "name": "stdout",
          "text": [
            "My name is Ali and I am 20 years old.\n"
          ]
        }
      ],
      "source": [
        "# Write your code here\n",
        "name = \"Ali\"\n",
        "age = 20\n",
        "\n",
        "message = f\"My name is {name} and I am {age} years old.\"\n",
        "\n",
        "print(message)"
      ]
    },
    {
      "cell_type": "markdown",
      "id": "f4e5b443",
      "metadata": {
        "id": "f4e5b443"
      },
      "source": [
        "## Conditional Statements & Logical Operators"
      ]
    },
    {
      "cell_type": "markdown",
      "id": "73fb5ea9",
      "metadata": {
        "id": "73fb5ea9"
      },
      "source": [
        "**Tugas 1:**  \n",
        "Diberikan:\n",
        "\n",
        "```python\n",
        "temperature = 30\n",
        "```\n",
        "\n",
        "Tulislah pernyataan `if` yang mencetak `\"It's hot\"` jika nilai `temperature` lebih dari 25."
      ]
    },
    {
      "cell_type": "code",
      "execution_count": 123,
      "id": "e321f1cf",
      "metadata": {
        "id": "e321f1cf",
        "colab": {
          "base_uri": "https://localhost:8080/"
        },
        "outputId": "9137dcc9-27bf-4dcf-9dd2-b0db6c2c891d"
      },
      "outputs": [
        {
          "output_type": "stream",
          "name": "stdout",
          "text": [
            "It's hot\n"
          ]
        }
      ],
      "source": [
        "# Write your code here\n",
        "temperature = 30\n",
        "\n",
        "if temperature > 25:\n",
        "    print(\"It's hot\")"
      ]
    },
    {
      "cell_type": "markdown",
      "id": "7f35a7dc",
      "metadata": {
        "id": "7f35a7dc"
      },
      "source": [
        "**Tugas 2:**  \n",
        "Minta pengguna memasukkan password menggunakan `input()`.  \n",
        "Jika password-nya adalah `\"admin\"`, cetak `\"Access granted\"`; jika tidak, cetak `\"Access denied\"`."
      ]
    },
    {
      "cell_type": "code",
      "execution_count": 125,
      "id": "c62ce186",
      "metadata": {
        "id": "c62ce186",
        "colab": {
          "base_uri": "https://localhost:8080/"
        },
        "outputId": "116c2772-61b6-46e0-b91a-587a2cd7c1de"
      },
      "outputs": [
        {
          "output_type": "stream",
          "name": "stdout",
          "text": [
            "Enter password: admin\n",
            "Access granted\n"
          ]
        }
      ],
      "source": [
        "# Write your code here\n",
        "password = input(\"Enter password: \")\n",
        "if password == \"admin\":\n",
        "    print(\"Access granted\")\n",
        "else:\n",
        "    print(\"Access denied\")"
      ]
    },
    {
      "cell_type": "markdown",
      "id": "4f25c199",
      "metadata": {
        "id": "4f25c199"
      },
      "source": [
        "**Tugas 3:**  \n",
        "Diberikan sebuah variabel `age`, tulislah kondisi untuk:\n",
        "- Mencetak `\"Child\"` jika `age < 13`  \n",
        "- Mencetak `\"Teen\"` jika `13 <= age < 18`  \n",
        "- Mencetak `\"Adult\"` jika tidak memenuhi kedua kondisi di atas"
      ]
    },
    {
      "cell_type": "code",
      "execution_count": 126,
      "id": "31de3aad",
      "metadata": {
        "id": "31de3aad",
        "colab": {
          "base_uri": "https://localhost:8080/"
        },
        "outputId": "8c06fc07-9408-4ea1-a149-e529b16e6ba3"
      },
      "outputs": [
        {
          "output_type": "stream",
          "name": "stdout",
          "text": [
            "Adult\n"
          ]
        }
      ],
      "source": [
        "# Write your code here\n",
        "age = 19\n",
        "if age < 13:\n",
        "    print(\"Child\")\n",
        "elif 13 <= age < 18:\n",
        "    print(\"Teen\")\n",
        "else:\n",
        "    print(\"Adult\")"
      ]
    },
    {
      "cell_type": "markdown",
      "id": "29bead83",
      "metadata": {
        "id": "29bead83"
      },
      "source": [
        "**Tugas 4:**  \n",
        "Diberikan:\n",
        "\n",
        "```python\n",
        "score = 85\n",
        "is_submitted = True\n",
        "```\n",
        "\n",
        "Cetak `\"Passed\"` hanya jika nilai `score` minimal 70 dan tugas sudah dikumpulkan (`is_submitted == True`).\n",
        "Jika tidak, cetak `\"Failed\"`."
      ]
    },
    {
      "cell_type": "code",
      "execution_count": 127,
      "id": "76a58c43",
      "metadata": {
        "id": "76a58c43",
        "colab": {
          "base_uri": "https://localhost:8080/"
        },
        "outputId": "7c1409f3-5d12-437a-d2e6-b8f97ecb31f2"
      },
      "outputs": [
        {
          "output_type": "stream",
          "name": "stdout",
          "text": [
            "Passed\n"
          ]
        }
      ],
      "source": [
        "# Write your code here\n",
        "score = 85\n",
        "is_submitted = True\n",
        "if score >= 70 and is_submitted == True:\n",
        "    print(\"Passed\")\n",
        "else:\n",
        "    print(\"Failed\")"
      ]
    },
    {
      "cell_type": "markdown",
      "id": "6dc235e2",
      "metadata": {
        "id": "6dc235e2"
      },
      "source": [
        "**Tugas 5:**  \n",
        "Diberikan:\n",
        "\n",
        "```python\n",
        "logged_in = False\n",
        "is_admin = True\n",
        "```\n",
        "\n",
        "- Cetak `\"Access denied\"` jika belum login dan bukan admin.\n",
        "- Jika tidak, cetak `\"Access granted\"`."
      ]
    },
    {
      "cell_type": "code",
      "execution_count": 128,
      "id": "a8457b18",
      "metadata": {
        "id": "a8457b18",
        "colab": {
          "base_uri": "https://localhost:8080/"
        },
        "outputId": "c95f455f-719c-46d2-9b61-ab5e425bf962"
      },
      "outputs": [
        {
          "output_type": "stream",
          "name": "stdout",
          "text": [
            "Access granted\n"
          ]
        }
      ],
      "source": [
        "# Write your code here\n",
        "logged_in = False\n",
        "is_admin = True\n",
        "\n",
        "if not logged_in and not is_admin:\n",
        "    print(\"Access denied\")\n",
        "else:\n",
        "    print(\"Access granted\")"
      ]
    },
    {
      "cell_type": "markdown",
      "id": "cc9b3657",
      "metadata": {
        "id": "cc9b3657"
      },
      "source": [
        "## For Loops"
      ]
    },
    {
      "cell_type": "markdown",
      "id": "bc2e4e26",
      "metadata": {
        "id": "bc2e4e26"
      },
      "source": [
        "**Tugas 1:**  \n",
        "Gunakan `for` loop dan `range()` untuk mencetak angka dari 1 sampai 5."
      ]
    },
    {
      "cell_type": "code",
      "execution_count": 129,
      "id": "b2b0f680",
      "metadata": {
        "id": "b2b0f680",
        "colab": {
          "base_uri": "https://localhost:8080/"
        },
        "outputId": "a9550983-87b2-4eae-be61-029a85378c3c"
      },
      "outputs": [
        {
          "output_type": "stream",
          "name": "stdout",
          "text": [
            "1\n",
            "2\n",
            "3\n",
            "4\n",
            "5\n"
          ]
        }
      ],
      "source": [
        "# Write your code here\n",
        "for i in range(1, 6):\n",
        "    print(i)"
      ]
    },
    {
      "cell_type": "markdown",
      "id": "829fb550",
      "metadata": {
        "id": "829fb550"
      },
      "source": [
        "**Tugas 2:**  \n",
        "Diberikan:\n",
        "\n",
        "```python\n",
        "fruits = [\"apple\", \"banana\", \"cherry\"]\n",
        "```\n",
        "\n",
        "Gunakan `for` loop untuk mencetak setiap buah dalam huruf kapital (uppercase)."
      ]
    },
    {
      "cell_type": "code",
      "execution_count": 130,
      "id": "228abcf9",
      "metadata": {
        "id": "228abcf9",
        "colab": {
          "base_uri": "https://localhost:8080/"
        },
        "outputId": "491bb7ff-921c-43a0-8dab-549792c06c5e"
      },
      "outputs": [
        {
          "output_type": "stream",
          "name": "stdout",
          "text": [
            "APPLE\n",
            "BANANA\n",
            "CHERRY\n"
          ]
        }
      ],
      "source": [
        "# Write your code here\n",
        "fruits = [\"apple\", \"banana\", \"cherry\"]\n",
        "for fruit in fruits:\n",
        "    print(fruit.upper())"
      ]
    },
    {
      "cell_type": "markdown",
      "id": "5a616342",
      "metadata": {
        "id": "5a616342"
      },
      "source": [
        "**Tugas 3:**  \n",
        "Buat list baru bernama `cubes` yang berisi hasil pangkat tiga (^3) dari angka 0 sampai 4 menggunakan **list comprehension satu baris**."
      ]
    },
    {
      "cell_type": "code",
      "execution_count": 131,
      "id": "c1ad9c56",
      "metadata": {
        "id": "c1ad9c56",
        "colab": {
          "base_uri": "https://localhost:8080/"
        },
        "outputId": "8987d478-74ed-45e6-9da6-faf397dcb9c7"
      },
      "outputs": [
        {
          "output_type": "stream",
          "name": "stdout",
          "text": [
            "[0, 1, 8, 27, 64]\n"
          ]
        }
      ],
      "source": [
        "# Write your code here\n",
        "cubes = [x**3 for x in range(5)]\n",
        "\n",
        "print(cubes)"
      ]
    },
    {
      "cell_type": "markdown",
      "id": "1d586491",
      "metadata": {
        "id": "1d586491"
      },
      "source": [
        "**Tugas 4:**  \n",
        "Buat list bernama `odds` yang hanya menyimpan **bilangan ganjil** dari 0 hingga 10 menggunakan list comprehension."
      ]
    },
    {
      "cell_type": "code",
      "execution_count": 132,
      "id": "2003002d",
      "metadata": {
        "id": "2003002d",
        "colab": {
          "base_uri": "https://localhost:8080/"
        },
        "outputId": "2f08d51b-157a-4e15-8ec4-7193b4b367b3"
      },
      "outputs": [
        {
          "output_type": "stream",
          "name": "stdout",
          "text": [
            "[1, 3, 5, 7, 9]\n"
          ]
        }
      ],
      "source": [
        "# Write your code here\n",
        "odds = [x for x in range(11) if x % 2 != 0]\n",
        "\n",
        "print(odds)"
      ]
    },
    {
      "cell_type": "markdown",
      "id": "033a7b69",
      "metadata": {
        "id": "033a7b69"
      },
      "source": [
        "**Tugas 5:**  \n",
        "Diberikan sebuah matriks:\n",
        "\n",
        "```python\n",
        "matrix = [\n",
        "    [1, 2, 3],\n",
        "    [4, 5, 6]\n",
        "]\n",
        "```\n",
        "\n",
        "Gunakan `for` **loop bersarang** (nested loop) untuk mencetak setiap elemen dalam matriks satu per satu."
      ]
    },
    {
      "cell_type": "code",
      "execution_count": 133,
      "id": "bb8b1dcb",
      "metadata": {
        "id": "bb8b1dcb",
        "colab": {
          "base_uri": "https://localhost:8080/"
        },
        "outputId": "e988fb0f-f784-4c87-f400-9b331935f0c8"
      },
      "outputs": [
        {
          "output_type": "stream",
          "name": "stdout",
          "text": [
            "1\n",
            "2\n",
            "3\n",
            "4\n",
            "5\n",
            "6\n"
          ]
        }
      ],
      "source": [
        "# Write your code here\n",
        "matrix = [\n",
        "    [1, 2, 3],\n",
        "    [4, 5, 6]\n",
        "]\n",
        "for row in matrix:\n",
        "    for element in row:\n",
        "        print(element)"
      ]
    },
    {
      "cell_type": "markdown",
      "id": "200add97",
      "metadata": {
        "id": "200add97"
      },
      "source": [
        "## While Loops"
      ]
    },
    {
      "cell_type": "markdown",
      "id": "cc76988c",
      "metadata": {
        "id": "cc76988c"
      },
      "source": [
        "**Tugas 1:**  \n",
        "Cetak angka dari 1 sampai 5 menggunakan `while` loop."
      ]
    },
    {
      "cell_type": "code",
      "execution_count": 134,
      "id": "06ec6646",
      "metadata": {
        "id": "06ec6646",
        "colab": {
          "base_uri": "https://localhost:8080/"
        },
        "outputId": "6df58fb7-1170-4c32-fc43-f3c16e404d45"
      },
      "outputs": [
        {
          "output_type": "stream",
          "name": "stdout",
          "text": [
            "1\n",
            "2\n",
            "3\n",
            "4\n",
            "5\n"
          ]
        }
      ],
      "source": [
        "# Write your code here\n",
        "i = 1\n",
        "while i <= 5:\n",
        "    print(i)\n",
        "    i += 1"
      ]
    },
    {
      "cell_type": "markdown",
      "id": "69a6f38e",
      "metadata": {
        "id": "69a6f38e"
      },
      "source": [
        "**Tugas 2:**  \n",
        "Minta pengguna memasukkan sebuah angka dan cetak hasil kuadrat dari angka tersebut.  \n",
        "Terus minta input **hingga pengguna memasukkan angka yang lebih besar atau sama dengan 10**.\n",
        "\n",
        "Hint: gunakan `int(input())`"
      ]
    },
    {
      "cell_type": "code",
      "execution_count": 135,
      "id": "e0af9749",
      "metadata": {
        "id": "e0af9749",
        "colab": {
          "base_uri": "https://localhost:8080/"
        },
        "outputId": "fd12ad5a-3738-460f-d9ce-31e90d243e6f"
      },
      "outputs": [
        {
          "output_type": "stream",
          "name": "stdout",
          "text": [
            "Masukkan angka: 2\n",
            "Kuadrat: 4\n",
            "Masukkan angka: 77\n",
            "Kuadrat: 5929\n"
          ]
        }
      ],
      "source": [
        "# Write your code here\n",
        "while True:\n",
        "    number = int(input(\"Masukkan angka: \"))\n",
        "    print(\"Kuadrat:\", number ** 2)\n",
        "\n",
        "    if number >= 10:\n",
        "        break"
      ]
    },
    {
      "cell_type": "markdown",
      "id": "e030bcb4",
      "metadata": {
        "id": "e030bcb4"
      },
      "source": [
        "**Tugas 3:**  \n",
        "Gunakan `while True` loop untuk terus meminta pengguna memasukkan teks dan cetak teks tersebut.  \n",
        "Jika pengguna mengetik `\"quit\"`, keluar dari loop tanpa mencetak `\"quit\"` menggunakan `break`."
      ]
    },
    {
      "cell_type": "code",
      "execution_count": 137,
      "id": "69928ec7",
      "metadata": {
        "id": "69928ec7",
        "colab": {
          "base_uri": "https://localhost:8080/"
        },
        "outputId": "47634996-bb5b-4710-ad64-adaf4deacba1"
      },
      "outputs": [
        {
          "name": "stdout",
          "output_type": "stream",
          "text": [
            "Masukkan teks (ketik 'quit' untuk keluar): aku suka buah \n",
            "aku suka buah \n",
            "Masukkan teks (ketik 'quit' untuk keluar): quit\n"
          ]
        }
      ],
      "source": [
        "# Write your code here\n",
        "while True:\n",
        "    teks = input(\"Masukkan teks (ketik 'quit' untuk keluar): \")\n",
        "    if teks.lower() == \"quit\":\n",
        "        break\n",
        "    print(teks)"
      ]
    },
    {
      "cell_type": "markdown",
      "id": "fdb54a19",
      "metadata": {
        "id": "fdb54a19"
      },
      "source": [
        "**Tugas 4:**  \n",
        "Gunakan `while` loop untuk mencetak hanya **bilangan ganjil** antara 1 sampai 10.  \n",
        "\n",
        "Gunakan `continue` untuk melewati bilangan genap."
      ]
    },
    {
      "cell_type": "code",
      "execution_count": 138,
      "id": "4d956ebb",
      "metadata": {
        "id": "4d956ebb",
        "colab": {
          "base_uri": "https://localhost:8080/"
        },
        "outputId": "efb98919-cead-4a05-d7ea-5c077685bb04"
      },
      "outputs": [
        {
          "output_type": "stream",
          "name": "stdout",
          "text": [
            "1\n",
            "3\n",
            "5\n",
            "7\n",
            "9\n"
          ]
        }
      ],
      "source": [
        "# Write your code here\n",
        "i = 1\n",
        "while i <= 10:\n",
        "    if i % 2 == 0:\n",
        "        i += 1\n",
        "        continue\n",
        "    print(i)\n",
        "    i += 1"
      ]
    },
    {
      "cell_type": "markdown",
      "id": "0d512606",
      "metadata": {
        "id": "0d512606"
      },
      "source": [
        "**Tugas 5:**  \n",
        "Mulailah dengan:\n",
        "\n",
        "```python\n",
        "attempts = 0\n",
        "```\n",
        "\n",
        "Terus minta pengguna untuk memasukkan password (gunakan `input()`), dan berhenti hanya jika:\n",
        "- Pengguna memasukkan password yang benar `\"python123\"`, atau\n",
        "- Sudah mencoba sebanyak 3 kali (`attempts >= 3`)\n",
        "\n",
        "Cetak `\"Access granted\"` jika password benar, atau `\"Access denied\"` jika melebihi batas percobaan."
      ]
    },
    {
      "cell_type": "code",
      "execution_count": 139,
      "id": "c21f7ab7",
      "metadata": {
        "id": "c21f7ab7",
        "colab": {
          "base_uri": "https://localhost:8080/"
        },
        "outputId": "faa7c5e2-9893-49a9-cf0b-1c804ec6dc5d"
      },
      "outputs": [
        {
          "output_type": "stream",
          "name": "stdout",
          "text": [
            "Masukkan password: nnbiie\n",
            "Masukkan password: nabila\n",
            "Masukkan password: saya\n",
            "Access denied\n"
          ]
        }
      ],
      "source": [
        "# Write your code here\n",
        "attempts = 0\n",
        "correct_password = \"python123\"\n",
        "while attempts < 3:\n",
        "    password = input(\"Masukkan password: \")\n",
        "    attempts += 1\n",
        "    if password == correct_password:\n",
        "        print(\"Access granted\")\n",
        "        break\n",
        "else:\n",
        "    print(\"Access denied\")"
      ]
    },
    {
      "cell_type": "markdown",
      "id": "0dfaa89c",
      "metadata": {
        "id": "0dfaa89c"
      },
      "source": [
        "## Lists and Tuples"
      ]
    },
    {
      "cell_type": "markdown",
      "id": "7f8db66c",
      "metadata": {
        "id": "7f8db66c"
      },
      "source": [
        "**Tugas 1:**  \n",
        "Diberikan list:\n",
        "\n",
        "```python\n",
        "numbers = [10, 20, 30, 40, 50]\n",
        "```\n",
        "\n",
        "- Gunakan slicing dan simpan 3 elemen pertama ke dalam `first_three`\n",
        "- Gunakan slicing dan simpan 2 elemen terakhir ke dalam `last_two`"
      ]
    },
    {
      "cell_type": "code",
      "execution_count": 140,
      "id": "68a21dfc",
      "metadata": {
        "id": "68a21dfc",
        "colab": {
          "base_uri": "https://localhost:8080/"
        },
        "outputId": "ca3e4261-b2e1-473a-9322-269fe1cd0f46"
      },
      "outputs": [
        {
          "output_type": "stream",
          "name": "stdout",
          "text": [
            "First three: [10, 20, 30]\n",
            "Last two: [40, 50]\n"
          ]
        }
      ],
      "source": [
        "# Write your code here\n",
        "numbers = [10, 20, 30, 40, 50]\n",
        "first_three = numbers[:3]\n",
        "last_two = numbers[-2:]\n",
        "\n",
        "print(\"First three:\", first_three)\n",
        "print(\"Last two:\", last_two)"
      ]
    },
    {
      "cell_type": "markdown",
      "id": "55bd0324",
      "metadata": {
        "id": "55bd0324"
      },
      "source": [
        "**Tugas 2:**  \n",
        "Diberikan:\n",
        "\n",
        "```python\n",
        "fruits = [\"apple\", \"banana\", \"cherry\"]\n",
        "```\n",
        "\n",
        "- Tambahkan `\"orange\"` ke akhir list\n",
        "- Sisipkan `\"kiwi\"` di awal list\n",
        "- Hapus `\"banana\"` dari list"
      ]
    },
    {
      "cell_type": "code",
      "execution_count": 141,
      "id": "74d18ff4",
      "metadata": {
        "id": "74d18ff4",
        "colab": {
          "base_uri": "https://localhost:8080/"
        },
        "outputId": "bf56b73e-0269-42ca-dd9e-a6729768be07"
      },
      "outputs": [
        {
          "output_type": "stream",
          "name": "stdout",
          "text": [
            "['kiwi', 'apple', 'cherry', 'orange']\n"
          ]
        }
      ],
      "source": [
        "# Write your code here\n",
        "fruits = [\"apple\", \"banana\", \"cherry\"]\n",
        "fruits.append(\"orange\")\n",
        "fruits.insert(0, \"kiwi\")\n",
        "fruits.remove(\"banana\")\n",
        "print(fruits)"
      ]
    },
    {
      "cell_type": "markdown",
      "id": "0bbc366d",
      "metadata": {
        "id": "0bbc366d"
      },
      "source": [
        "**Tugas 3:**  \n",
        "Diberikan:\n",
        "\n",
        "```python\n",
        "a = [1, 2, 3]\n",
        "```\n",
        "\n",
        "- Buat salinan list dan simpan sebagai `a_copy`\n",
        "- Buat view (referensi) dari list dan simpan sebagai `a_view`\n",
        "- Ubah nilai `a_view[0] = 99`\n",
        "- Cetak `a`, `a_view`, dan `a_copy` untuk melihat perbedaannya"
      ]
    },
    {
      "cell_type": "code",
      "execution_count": 142,
      "id": "9e27a836",
      "metadata": {
        "id": "9e27a836",
        "colab": {
          "base_uri": "https://localhost:8080/"
        },
        "outputId": "29b1475b-7cbb-4f48-9ffd-efa2a174028e"
      },
      "outputs": [
        {
          "output_type": "stream",
          "name": "stdout",
          "text": [
            "a      : [99, 2, 3]\n",
            "a_view : [99, 2, 3]\n",
            "a_copy : [1, 2, 3]\n"
          ]
        }
      ],
      "source": [
        "# Write your code here\n",
        "a = [1, 2, 3]\n",
        "a_copy = a.copy()\n",
        "a_view = a\n",
        "a_view[0] = 99\n",
        "\n",
        "print(\"a      :\", a)\n",
        "print(\"a_view :\", a_view)\n",
        "print(\"a_copy :\", a_copy)"
      ]
    },
    {
      "cell_type": "markdown",
      "id": "9b66ca46",
      "metadata": {
        "id": "9b66ca46"
      },
      "source": [
        "**Tugas 4:**  \n",
        "Diberikan:\n",
        "\n",
        "```python\n",
        "coords = (10, 20, 30)\n",
        "```\n",
        "\n",
        "Unpack tuple tersebut ke dalam tiga variabel: `x`, `y`, dan `z`."
      ]
    },
    {
      "cell_type": "code",
      "execution_count": 143,
      "id": "aab7dcb8",
      "metadata": {
        "id": "aab7dcb8",
        "colab": {
          "base_uri": "https://localhost:8080/"
        },
        "outputId": "52da856f-3fe6-44f0-b74e-6d120db3c358"
      },
      "outputs": [
        {
          "output_type": "stream",
          "name": "stdout",
          "text": [
            "x = 10\n",
            "y = 20\n",
            "z = 30\n"
          ]
        }
      ],
      "source": [
        "# Write your code here\n",
        "coords = (10, 20, 30)\n",
        "x, y, z = coords\n",
        "\n",
        "print(\"x =\", x)\n",
        "print(\"y =\", y)\n",
        "print(\"z =\", z)"
      ]
    },
    {
      "cell_type": "markdown",
      "id": "fd8ec97b",
      "metadata": {
        "id": "fd8ec97b"
      },
      "source": [
        "**Tugas 5:**  \n",
        "Diberikan:\n",
        "\n",
        "```python\n",
        "point = (3, 4)\n",
        "```\n",
        "\n",
        "Unpack tuple tersebut, lalu hitung jarak Euclidean dari titik asal menggunakan rumus:\n",
        "\n",
        "`distance = (x**2 + y**2)**0.5`"
      ]
    },
    {
      "cell_type": "code",
      "execution_count": 144,
      "id": "d24ed850",
      "metadata": {
        "id": "d24ed850",
        "colab": {
          "base_uri": "https://localhost:8080/"
        },
        "outputId": "55f67a65-1dfd-4daf-9174-b591c803fc63"
      },
      "outputs": [
        {
          "output_type": "stream",
          "name": "stdout",
          "text": [
            "Jarak Euclidean = 5.0\n"
          ]
        }
      ],
      "source": [
        "# Write your code here\n",
        "point = (3, 4)\n",
        "x, y = point\n",
        "distance = (x**2 + y**2) ** 0.5\n",
        "\n",
        "print(\"Jarak Euclidean =\", distance)"
      ]
    },
    {
      "cell_type": "markdown",
      "id": "63468700",
      "metadata": {
        "id": "63468700"
      },
      "source": [
        "**Tugas 6:**  \n",
        "Diberikan:\n",
        "\n",
        "```python\n",
        "nums = (4, 1, 3, 2)\n",
        "```\n",
        "\n",
        "- Ubah `nums` menjadi list agar dapat dimodifikasi\n",
        "- Urutkan list dalam urutan menaik\n",
        "- Balik urutan list tersebut\n",
        "- Hapus elemen terakhir menggunakan `pop()`\n",
        "- Kosongkan seluruh isi list"
      ]
    },
    {
      "cell_type": "code",
      "execution_count": 146,
      "id": "c25a8fbe",
      "metadata": {
        "id": "c25a8fbe"
      },
      "outputs": [],
      "source": [
        "# Write your code here\n",
        "nums = (4, 1, 3, 2)\n",
        "nums_list = list(nums)\n",
        "nums_list.sort()\n",
        "nums_list.reverse()\n",
        "nums_list.pop()\n",
        "nums_list.clear()\n"
      ]
    },
    {
      "cell_type": "markdown",
      "id": "089e3c75",
      "metadata": {
        "id": "089e3c75"
      },
      "source": [
        "**Tugas 7:**  \n",
        "Diberikan:\n",
        "\n",
        "```python\n",
        "data = [1, 2, 3, 4, 5]\n",
        "```\n",
        "\n",
        "Gunakan extended unpacking untuk:\n",
        "- Menyimpan elemen pertama ke dalam `head`\n",
        "- Menyimpan sisa elemen ke dalam `tail`"
      ]
    },
    {
      "cell_type": "code",
      "execution_count": 147,
      "id": "4d17deff",
      "metadata": {
        "id": "4d17deff",
        "colab": {
          "base_uri": "https://localhost:8080/"
        },
        "outputId": "a49ea5d0-3a66-44e3-a316-cf8fa00cecc3"
      },
      "outputs": [
        {
          "output_type": "stream",
          "name": "stdout",
          "text": [
            "head: 1\n",
            "tail: [2, 3, 4, 5]\n"
          ]
        }
      ],
      "source": [
        "# Write your code here\n",
        "data = [1, 2, 3, 4, 5]\n",
        "head, *tail = data\n",
        "print(\"head:\", head)\n",
        "print(\"tail:\", tail)"
      ]
    },
    {
      "cell_type": "markdown",
      "id": "47eb70a9",
      "metadata": {
        "id": "47eb70a9"
      },
      "source": [
        "## Dictionaries"
      ]
    },
    {
      "cell_type": "markdown",
      "id": "f25541cc",
      "metadata": {
        "id": "f25541cc"
      },
      "source": [
        "**Tugas 1:**  \n",
        "Diberikan:\n",
        "\n",
        "```python\n",
        "student = {\"name\": \"Ali\", \"age\": 20}\n",
        "```\n",
        "\n",
        "- Cetak nilai dari `\"name\"` menggunakan `student[\"name\"]` dan `student.get(\"name\")`\n",
        "- Coba ambil nilai dari `\"email\"` menggunakan `.get()` tanpa menimbulkan error"
      ]
    },
    {
      "cell_type": "code",
      "execution_count": 148,
      "id": "745af91b",
      "metadata": {
        "id": "745af91b",
        "colab": {
          "base_uri": "https://localhost:8080/"
        },
        "outputId": "2393f23c-56af-41eb-9709-d5283434c36f"
      },
      "outputs": [
        {
          "output_type": "stream",
          "name": "stdout",
          "text": [
            "Ali\n",
            "Ali\n",
            "None\n"
          ]
        }
      ],
      "source": [
        "# Write your code here\n",
        "student = {\"name\": \"Ali\", \"age\": 20}\n",
        "print(student[\"name\"])\n",
        "print(student.get(\"name\"))\n",
        "print(student.get(\"email\"))"
      ]
    },
    {
      "cell_type": "markdown",
      "id": "097937b9",
      "metadata": {
        "id": "097937b9"
      },
      "source": [
        "**Tugas 2:**  \n",
        "Gunakan `.get()` untuk mengambil nilai `\"email\"` dari dictionary `student`.  \n",
        "Jika key tersebut tidak ada, kembalikan nilai `\"Not provided\"` sebagai default."
      ]
    },
    {
      "cell_type": "code",
      "execution_count": 149,
      "id": "598a6529",
      "metadata": {
        "id": "598a6529",
        "colab": {
          "base_uri": "https://localhost:8080/"
        },
        "outputId": "fd91d8c7-ad2f-490a-ac9f-c9dd9f233a8f"
      },
      "outputs": [
        {
          "output_type": "stream",
          "name": "stdout",
          "text": [
            "Not provided\n"
          ]
        }
      ],
      "source": [
        "# Write your code here\n",
        "student = {\"name\": \"Ali\", \"age\": 20}\n",
        "email = student.get(\"email\", \"Not provided\")\n",
        "\n",
        "print(email)"
      ]
    },
    {
      "cell_type": "markdown",
      "id": "847bd552",
      "metadata": {
        "id": "847bd552"
      },
      "source": [
        "**Tugas 3:**  \n",
        "- Ubah umur siswa menjadi 21  \n",
        "- Tambahkan key baru `\"grade\"` dengan nilai `\"A\"`"
      ]
    },
    {
      "cell_type": "code",
      "execution_count": 150,
      "id": "5b6e3e93",
      "metadata": {
        "id": "5b6e3e93",
        "colab": {
          "base_uri": "https://localhost:8080/"
        },
        "outputId": "01ca8c81-bf26-4228-82be-48f240b5e51f"
      },
      "outputs": [
        {
          "output_type": "stream",
          "name": "stdout",
          "text": [
            "{'name': 'Ali', 'age': 21, 'grade': 'A'}\n"
          ]
        }
      ],
      "source": [
        "# Write your code here\n",
        "student = {\"name\": \"Ali\", \"age\": 20}\n",
        "student[\"age\"] = 21\n",
        "student[\"grade\"] = \"A\"\n",
        "\n",
        "print(student)"
      ]
    },
    {
      "cell_type": "markdown",
      "id": "5f246369",
      "metadata": {
        "id": "5f246369"
      },
      "source": [
        "**Tugas 4:**  \n",
        "Cetak semua hal berikut:\n",
        "- Hanya key  \n",
        "- Hanya value  \n",
        "- Key dan value sebagai pasangan (tuple)"
      ]
    },
    {
      "cell_type": "code",
      "execution_count": 151,
      "id": "ddd026b0",
      "metadata": {
        "id": "ddd026b0",
        "colab": {
          "base_uri": "https://localhost:8080/"
        },
        "outputId": "8edb8937-3506-426f-d349-5b0449b1f5f7"
      },
      "outputs": [
        {
          "output_type": "stream",
          "name": "stdout",
          "text": [
            "dict_keys(['name', 'age', 'grade'])\n",
            "dict_values(['Ali', 21, 'A'])\n",
            "dict_items([('name', 'Ali'), ('age', 21), ('grade', 'A')])\n"
          ]
        }
      ],
      "source": [
        "# Write your code here\n",
        "student = {\"name\": \"Ali\", \"age\": 21, \"grade\": \"A\"}\n",
        "print(student.keys())\n",
        "print(student.values())\n",
        "print(student.items())"
      ]
    },
    {
      "cell_type": "markdown",
      "id": "652ce7fd",
      "metadata": {
        "id": "652ce7fd"
      },
      "source": [
        "**Tugas 5:**  \n",
        "Lakukan loop pada dictionary `student` dan cetak setiap key beserta nilai pasangannya dengan format:  \n",
        "`key: value`"
      ]
    },
    {
      "cell_type": "code",
      "execution_count": 153,
      "id": "2a80141f",
      "metadata": {
        "id": "2a80141f",
        "colab": {
          "base_uri": "https://localhost:8080/"
        },
        "outputId": "c246ee05-a766-42f5-801f-9d52732810a2"
      },
      "outputs": [
        {
          "output_type": "stream",
          "name": "stdout",
          "text": [
            "name: Ali\n",
            "age: 20\n",
            "grade: A\n"
          ]
        }
      ],
      "source": [
        "# Write your code here\n",
        "student = {\"name\": \"Ali\", \"age\": 20, \"grade\": \"A\"}\n",
        "for key, value in student.items():\n",
        "    print(f\"{key}: {value}\")"
      ]
    },
    {
      "cell_type": "markdown",
      "id": "1bb018fd",
      "metadata": {
        "id": "1bb018fd"
      },
      "source": [
        "## Sets"
      ]
    },
    {
      "cell_type": "markdown",
      "id": "3c43aebb",
      "metadata": {
        "id": "3c43aebb"
      },
      "source": [
        "**Tugas 1:**  \n",
        "Buat sebuah set bernama `nums` dengan nilai `[3, 3, 4, 2, 2, 2, 1]`.  \n",
        "Cetak isi set tersebut.  \n",
        "\n",
        "Apa yang kamu perhatikan dari hasilnya?"
      ]
    },
    {
      "cell_type": "code",
      "execution_count": 154,
      "id": "6caeee50",
      "metadata": {
        "id": "6caeee50",
        "colab": {
          "base_uri": "https://localhost:8080/"
        },
        "outputId": "453a1c5b-48ab-4131-933e-273412862899"
      },
      "outputs": [
        {
          "output_type": "stream",
          "name": "stdout",
          "text": [
            "{1, 2, 3, 4}\n"
          ]
        }
      ],
      "source": [
        "# Write your code here\n",
        "nums = {3, 3, 4, 2, 2, 2, 1}\n",
        "print(nums)"
      ]
    },
    {
      "cell_type": "markdown",
      "id": "dd776a18",
      "metadata": {
        "id": "dd776a18"
      },
      "source": [
        "**Tugas 2:**  \n",
        "Buat sebuah set kosong bernama `my_set` (bukan dictionary).  \n",
        "Lalu tambahkan `\"apple\"` dan `\"banana\"` ke dalamnya."
      ]
    },
    {
      "cell_type": "code",
      "execution_count": 155,
      "id": "05a79184",
      "metadata": {
        "id": "05a79184"
      },
      "outputs": [],
      "source": [
        "# Write your code here\n",
        "my_set = set()\n",
        "my_set.add(\"apple\")\n",
        "my_set.add(\"banana\")"
      ]
    },
    {
      "cell_type": "markdown",
      "id": "f1ce93b4",
      "metadata": {
        "id": "f1ce93b4"
      },
      "source": [
        "**Tugas 3:**  \n",
        "Diberikan:\n",
        "\n",
        "```python\n",
        "a = {1, 2, 3}\n",
        "b = {3, 4, 5}\n",
        "```\n",
        "\n",
        "- Buat set baru `union_set` yang merupakan gabungan dari keduanya\n",
        "- Buat set baru `intersect_set` yang hanya berisi elemen yang sama dari keduanya"
      ]
    },
    {
      "cell_type": "code",
      "execution_count": 156,
      "id": "27442896",
      "metadata": {
        "id": "27442896",
        "colab": {
          "base_uri": "https://localhost:8080/"
        },
        "outputId": "fd1629dd-f358-4418-a9a1-dc17da583193"
      },
      "outputs": [
        {
          "output_type": "stream",
          "name": "stdout",
          "text": [
            "Union: {1, 2, 3, 4, 5}\n",
            "Intersection: {3}\n"
          ]
        }
      ],
      "source": [
        "# Write your code here\n",
        "a = {1, 2, 3}\n",
        "b = {3, 4, 5}\n",
        "union_set = a.union(b)\n",
        "intersect_set = a.intersection(b)\n",
        "\n",
        "print(\"Union:\", union_set)\n",
        "print(\"Intersection:\", intersect_set)"
      ]
    },
    {
      "cell_type": "markdown",
      "id": "e505cd68",
      "metadata": {
        "id": "e505cd68"
      },
      "source": [
        "**Tugas 4:**  \n",
        "Menggunakan set `a` dan `b` yang sama:\n",
        "\n",
        "- Buat `diff_set` yang berisi nilai-nilai yang ada di `a` tapi tidak di `b`  \n",
        "- Buat `sym_diff_set` yang berisi nilai-nilai yang ada di `a` atau `b`, tapi tidak keduanya"
      ]
    },
    {
      "cell_type": "code",
      "execution_count": 157,
      "id": "75a8c6c3",
      "metadata": {
        "id": "75a8c6c3",
        "colab": {
          "base_uri": "https://localhost:8080/"
        },
        "outputId": "16a692d3-627b-4fbe-e64a-75c38596a2a9"
      },
      "outputs": [
        {
          "output_type": "stream",
          "name": "stdout",
          "text": [
            "{1, 2}\n"
          ]
        }
      ],
      "source": [
        "# Write your code here\n",
        "diff_set = a - b\n",
        "print(diff_set)"
      ]
    },
    {
      "cell_type": "markdown",
      "id": "fbca1672",
      "metadata": {
        "id": "fbca1672"
      },
      "source": [
        "**Tugas 5:**  \n",
        "Gunakan set comprehension untuk membuat sebuah set yang berisi semua bilangan genap dari 0 sampai 20."
      ]
    },
    {
      "cell_type": "code",
      "execution_count": 158,
      "id": "030122b1",
      "metadata": {
        "id": "030122b1",
        "colab": {
          "base_uri": "https://localhost:8080/"
        },
        "outputId": "62940a63-439e-4adf-e9e5-0c9266132fdf"
      },
      "outputs": [
        {
          "output_type": "stream",
          "name": "stdout",
          "text": [
            "{0, 2, 4, 6, 8, 10, 12, 14, 16, 18, 20}\n"
          ]
        }
      ],
      "source": [
        "# Write your code here\n",
        "even_set = {x for x in range(21) if x % 2 == 0}\n",
        "print(even_set)"
      ]
    },
    {
      "cell_type": "markdown",
      "id": "431ba7ad",
      "metadata": {
        "id": "431ba7ad"
      },
      "source": [
        "## Input dan Typecasting"
      ]
    },
    {
      "cell_type": "markdown",
      "id": "cdb5216b",
      "metadata": {
        "id": "cdb5216b"
      },
      "source": [
        "**Tugas 1:**  \n",
        "Minta pengguna untuk memasukkan nama mereka dan simpan dalam variabel `name`.  \n",
        "Cetak `Hello, <name>!`"
      ]
    },
    {
      "cell_type": "code",
      "execution_count": 159,
      "id": "4c24786d",
      "metadata": {
        "id": "4c24786d",
        "colab": {
          "base_uri": "https://localhost:8080/"
        },
        "outputId": "197b0bc0-8785-442f-a4aa-afb12bacbc79"
      },
      "outputs": [
        {
          "output_type": "stream",
          "name": "stdout",
          "text": [
            "Masukkan nama Anda: nabila\n",
            "Hello, nabila!\n"
          ]
        }
      ],
      "source": [
        "# Write your code here\n",
        "name = input(\"Masukkan nama Anda: \")\n",
        "print(f\"Hello, {name}!\")"
      ]
    },
    {
      "cell_type": "markdown",
      "id": "13dd1d41",
      "metadata": {
        "id": "13dd1d41"
      },
      "source": [
        "**Tugas 2:**  \n",
        "Minta pengguna memasukkan umur mereka, lalu ubah menjadi `int`.  \n",
        "Jika umur ≥ 18, cetak `\"Dewasa\"`, jika tidak, cetak `\"Anak-anak\"`."
      ]
    },
    {
      "cell_type": "code",
      "execution_count": 160,
      "id": "db11f805",
      "metadata": {
        "id": "db11f805",
        "colab": {
          "base_uri": "https://localhost:8080/"
        },
        "outputId": "7880fc1d-9285-437c-c27f-d604598d4240"
      },
      "outputs": [
        {
          "output_type": "stream",
          "name": "stdout",
          "text": [
            "Masukkan umur Anda: 19\n",
            "Dewasa\n"
          ]
        }
      ],
      "source": [
        "# Write your code here\n",
        "umur = int(input(\"Masukkan umur Anda: \"))\n",
        "if umur >= 18:\n",
        "    print(\"Dewasa\")\n",
        "else:\n",
        "    print(\"Anak-anak\")"
      ]
    },
    {
      "cell_type": "markdown",
      "id": "6507349d",
      "metadata": {
        "id": "6507349d"
      },
      "source": [
        "**Tugas 3:**  \n",
        "Minta pengguna memasukkan dua angka desimal (`float`).  \n",
        "Jumlahkan kedua angka tersebut dan tampilkan hasilnya."
      ]
    },
    {
      "cell_type": "code",
      "execution_count": 161,
      "id": "2ea3495e",
      "metadata": {
        "id": "2ea3495e",
        "colab": {
          "base_uri": "https://localhost:8080/"
        },
        "outputId": "d2bc1730-0f0c-4ad7-9d10-e34127a9f8b3"
      },
      "outputs": [
        {
          "output_type": "stream",
          "name": "stdout",
          "text": [
            "Masukkan angka pertama: 22\n",
            "Masukkan angka kedua: 22\n",
            "Hasil penjumlahan: 44.0\n"
          ]
        }
      ],
      "source": [
        "2# Write your code here\n",
        "angka1 = float(input(\"Masukkan angka pertama: \"))\n",
        "angka2 = float(input(\"Masukkan angka kedua: \"))\n",
        "\n",
        "hasil = angka1 + angka2\n",
        "print(\"Hasil penjumlahan:\", hasil)"
      ]
    },
    {
      "cell_type": "markdown",
      "id": "86676c26",
      "metadata": {
        "id": "86676c26"
      },
      "source": [
        "**Tugas 4:**  \n",
        "Minta pengguna mengisi input. Jika pengguna tidak mengisi apa-apa, anggap input tersebut `False`.  \n",
        "Gunakan `bool()` untuk mengecek apakah input kosong atau tidak, lalu cetak hasilnya."
      ]
    },
    {
      "cell_type": "code",
      "execution_count": 162,
      "id": "b906f86c",
      "metadata": {
        "id": "b906f86c",
        "colab": {
          "base_uri": "https://localhost:8080/"
        },
        "outputId": "5f952d84-0c34-412e-9717-6967e2eca30f"
      },
      "outputs": [
        {
          "name": "stdout",
          "output_type": "stream",
          "text": [
            "Masukkan sesuatu: ayam\n"
          ]
        }
      ],
      "source": [
        "# Write your code here\n",
        "user_input = input(\"Masukkan sesuatu: \")\n",
        "hasil = bool(user_input)"
      ]
    },
    {
      "cell_type": "markdown",
      "id": "743d051f",
      "metadata": {
        "id": "743d051f"
      },
      "source": [
        "**Tugas 5:**  \n",
        "Minta pengguna memasukkan kalimat.  \n",
        "Ubah input tersebut menjadi list dari karakter-karakter yang ada di dalamnya, lalu cetak hasilnya.\n",
        "\n",
        "Contoh:  \n",
        "Input: `halo`  \n",
        "Output: `['h', 'a', 'l', 'o']`\n"
      ]
    },
    {
      "cell_type": "code",
      "execution_count": 92,
      "id": "d68d88fd",
      "metadata": {
        "id": "d68d88fd",
        "colab": {
          "base_uri": "https://localhost:8080/"
        },
        "outputId": "d64784fa-034f-492b-ac1c-f70816774470"
      },
      "outputs": [
        {
          "output_type": "stream",
          "name": "stdout",
          "text": [
            "Masukkan kalimat: halo\n",
            "['h', 'a', 'l', 'o']\n"
          ]
        }
      ],
      "source": [
        "# Write your code here\n",
        "kalimat = input(\"Masukkan kalimat: \")\n",
        "karakter_list = list(kalimat)\n",
        "\n",
        "print(karakter_list)"
      ]
    },
    {
      "cell_type": "markdown",
      "id": "b67a75e2",
      "metadata": {
        "id": "b67a75e2"
      },
      "source": [
        "**Tugas 6:**  \n",
        "Minta pengguna memasukkan 5 angka (gunakan `input()` sebanyak 5 kali).  \n",
        "Setiap angka diubah ke `int`, dan disimpan dalam list `numbers`.\n",
        "\n",
        "Setelah semua angka dikumpulkan, cetak:\n",
        "- Rata-rata nilainya\n",
        "- Angka terbesar\n",
        "- Apakah semua angka > 0 (gunakan `all()`)\n"
      ]
    },
    {
      "cell_type": "code",
      "execution_count": 100,
      "id": "d98fe74f",
      "metadata": {
        "id": "d98fe74f",
        "colab": {
          "base_uri": "https://localhost:8080/"
        },
        "outputId": "7accdee0-2b67-4f65-e5c3-a96b718e6172"
      },
      "outputs": [
        {
          "output_type": "stream",
          "name": "stdout",
          "text": [
            "Masukkan angka ke-1: 8\n",
            "Masukkan angka ke-2: 88\n",
            "Masukkan angka ke-3: 888\n",
            "Masukkan angka ke-4: 9\n",
            "Masukkan angka ke-5: 99\n",
            "Rata-rata: 55.72727272727273\n",
            "Angka terbesar: 888\n",
            "Semua angka > 0? True\n"
          ]
        }
      ],
      "source": [
        "# Write your code here\n",
        "for i in range(5):\n",
        "    num = int(input(f\"Masukkan angka ke-{i+1}: \"))\n",
        "    numbers.append(num)\n",
        "average = sum(numbers) / len(numbers)\n",
        "max_num = max(numbers)\n",
        "all_positive = all(n > 0 for n in numbers)\n",
        "\n",
        "print(\"Rata-rata:\", average)\n",
        "print(\"Angka terbesar:\", max_num)\n",
        "print(\"Semua angka > 0?\", all_positive)"
      ]
    },
    {
      "cell_type": "markdown",
      "id": "84fbe119",
      "metadata": {
        "id": "84fbe119"
      },
      "source": [
        "## Functions"
      ]
    },
    {
      "cell_type": "markdown",
      "id": "751ed2c7",
      "metadata": {
        "id": "751ed2c7"
      },
      "source": [
        "**Tugas 1:**  \n",
        "Buat fungsi `say_hello()` yang mencetak `\"Hello, world!\"`  \n",
        "Panggil fungsi tersebut."
      ]
    },
    {
      "cell_type": "code",
      "execution_count": 56,
      "id": "7c0f8b55",
      "metadata": {
        "id": "7c0f8b55",
        "colab": {
          "base_uri": "https://localhost:8080/"
        },
        "outputId": "5d5d2b70-8d59-410b-ce47-e0f6fa638a89"
      },
      "outputs": [
        {
          "output_type": "stream",
          "name": "stdout",
          "text": [
            "Hello, world!\n"
          ]
        }
      ],
      "source": [
        "# Write your code here\n",
        "def say_hello():\n",
        "    print(\"Hello, world!\")\n",
        "say_hello()"
      ]
    },
    {
      "cell_type": "markdown",
      "id": "de1cddbe",
      "metadata": {
        "id": "de1cddbe"
      },
      "source": [
        "**Tugas 2:**  \n",
        "Buat fungsi `cube(x)` yang mengembalikan kubik dari `x`.  \n",
        "Panggil dengan nilai `4` dan tampilkan hasilnya."
      ]
    },
    {
      "cell_type": "code",
      "execution_count": 163,
      "id": "2916695d",
      "metadata": {
        "id": "2916695d",
        "colab": {
          "base_uri": "https://localhost:8080/"
        },
        "outputId": "31755ad8-c079-40f4-b252-7286b44eb205"
      },
      "outputs": [
        {
          "output_type": "stream",
          "name": "stdout",
          "text": [
            "64\n"
          ]
        }
      ],
      "source": [
        "# Write your code here\n",
        "def cube(x):\n",
        "    return x ** 3\n",
        "result = cube(4)\n",
        "print(result)"
      ]
    },
    {
      "cell_type": "markdown",
      "id": "bc72d626",
      "metadata": {
        "id": "bc72d626"
      },
      "source": [
        "**Tugas 3:**  \n",
        "Buat fungsi `greet(name=\"User\")` yang mencetak `\"Halo, <name>!\"`  \n",
        "Panggil fungsi:\n",
        "- Tanpa argumen\n",
        "- Dengan nama custom"
      ]
    },
    {
      "cell_type": "code",
      "execution_count": 58,
      "id": "769bb256",
      "metadata": {
        "id": "769bb256",
        "colab": {
          "base_uri": "https://localhost:8080/"
        },
        "outputId": "8e6c969e-c2a1-4321-b86e-074dcd8c3ea1"
      },
      "outputs": [
        {
          "output_type": "stream",
          "name": "stdout",
          "text": [
            "Halo, User!\n",
            "Halo, Ali!\n"
          ]
        }
      ],
      "source": [
        "# Write your code here\n",
        "def greet(name=\"User\"):\n",
        "    print(f\"Halo, {name}!\")\n",
        "greet()\n",
        "greet(\"Ali\")"
      ]
    },
    {
      "cell_type": "markdown",
      "id": "d52eb2e6",
      "metadata": {
        "id": "d52eb2e6"
      },
      "source": [
        "**Tugas 4:**  \n",
        "Buat fungsi `check_number(num)` yang:\n",
        "- Mencetak `\"Positif\"` jika `num > 0`\n",
        "- Mencetak `\"Negatif\"` jika `num < 0`\n",
        "- Mencetak `\"Nol\"` jika `num == 0`"
      ]
    },
    {
      "cell_type": "code",
      "execution_count": 62,
      "id": "34e729f3",
      "metadata": {
        "id": "34e729f3",
        "colab": {
          "base_uri": "https://localhost:8080/"
        },
        "outputId": "9061c0b9-c7d3-4df0-f25d-d2a4ac048b00"
      },
      "outputs": [
        {
          "output_type": "stream",
          "name": "stdout",
          "text": [
            "Positif\n",
            "Negatif\n",
            "Nol\n"
          ]
        }
      ],
      "source": [
        "# Write your code here\n",
        "def check_number(num):\n",
        "    if num > 0:\n",
        "        print(\"Positif\")\n",
        "    elif num < 0:\n",
        "        print(\"Negatif\")\n",
        "    else:\n",
        "        print(\"Nol\")\n",
        "\n",
        "check_number(5)\n",
        "check_number(-3)\n",
        "check_number(0)"
      ]
    },
    {
      "cell_type": "markdown",
      "id": "95c8c951",
      "metadata": {
        "id": "95c8c951"
      },
      "source": [
        "**Tugas 5:**  \n",
        "Buat lambda function `multiply` yang mengalikan dua angka.  \n",
        "Panggil fungsi tersebut dengan nilai `3` dan `4`, lalu cetak hasilnya."
      ]
    },
    {
      "cell_type": "code",
      "execution_count": 63,
      "id": "e5b74a3e",
      "metadata": {
        "id": "e5b74a3e",
        "colab": {
          "base_uri": "https://localhost:8080/"
        },
        "outputId": "21fa59e8-1012-41cc-fcd7-226261b6cf8c"
      },
      "outputs": [
        {
          "output_type": "stream",
          "name": "stdout",
          "text": [
            "12\n"
          ]
        }
      ],
      "source": [
        "# Write your code here\n",
        "multiply = lambda x, y: x * y\n",
        "result = multiply(3, 4)\n",
        "print(result)"
      ]
    },
    {
      "cell_type": "markdown",
      "id": "75c83d17",
      "metadata": {
        "id": "75c83d17"
      },
      "source": [
        "**Tugas 6:**  \n",
        "Buat fungsi `sum_all(*numbers)` yang menerima banyak angka dan mengembalikan jumlah totalnya.  \n",
        "Panggil dengan beberapa angka, misalnya `1, 2, 3, 4`."
      ]
    },
    {
      "cell_type": "code",
      "execution_count": 64,
      "id": "2698de8d",
      "metadata": {
        "id": "2698de8d",
        "colab": {
          "base_uri": "https://localhost:8080/"
        },
        "outputId": "79be2c29-7118-4bf3-f1a8-c92d6a73d59f"
      },
      "outputs": [
        {
          "output_type": "stream",
          "name": "stdout",
          "text": [
            "10\n"
          ]
        }
      ],
      "source": [
        "# Write your code here\n",
        "def sum_all(*numbers):\n",
        "    return sum(numbers)\n",
        "result = sum_all(1, 2, 3, 4)\n",
        "print(result)"
      ]
    },
    {
      "cell_type": "markdown",
      "id": "33dde44f",
      "metadata": {
        "id": "33dde44f"
      },
      "source": [
        "**Tugas 7:**  \n",
        "Buat fungsi `print_profile(**data)` yang mencetak setiap pasangan `key: value` dari data yang diberikan.  \n",
        "Contoh:\n",
        "\n",
        "```python\n",
        "print_profile(name=\"Ali\", age=19, major=\"Statistics\")\n",
        "```\n"
      ]
    },
    {
      "cell_type": "code",
      "execution_count": 65,
      "id": "c079ed09",
      "metadata": {
        "id": "c079ed09",
        "colab": {
          "base_uri": "https://localhost:8080/"
        },
        "outputId": "05ee3a9c-2419-4d29-83a4-100db5c62d09"
      },
      "outputs": [
        {
          "output_type": "stream",
          "name": "stdout",
          "text": [
            "name: Ali\n",
            "age: 19\n",
            "major: Statistics\n"
          ]
        }
      ],
      "source": [
        "# Write your code here\n",
        "def print_profile(**data):\n",
        "    for key, value in data.items():\n",
        "        print(f\"{key}: {value}\")\n",
        "print_profile(name=\"Ali\", age=19, major=\"Statistics\")"
      ]
    },
    {
      "cell_type": "markdown",
      "id": "b8dbfdaa",
      "metadata": {
        "id": "b8dbfdaa"
      },
      "source": [
        "## OOP"
      ]
    },
    {
      "cell_type": "markdown",
      "id": "d25073a8",
      "metadata": {
        "id": "d25073a8"
      },
      "source": [
        "**Tugas 1**:<br>\n",
        "Buat kelas bernama `Animal`.<br>\n",
        "Untuk saat ini, biarkan kelas tersebut kosong (gunakan `pass`).<br>\n",
        "Buat objek `hewan_1` dari kelas tersebut."
      ]
    },
    {
      "cell_type": "code",
      "execution_count": 103,
      "id": "2e1ef7fb",
      "metadata": {
        "id": "2e1ef7fb",
        "colab": {
          "base_uri": "https://localhost:8080/"
        },
        "outputId": "9fca604b-901b-4080-f8c8-4da880fb7fdb"
      },
      "outputs": [
        {
          "output_type": "stream",
          "name": "stdout",
          "text": [
            "<__main__.Animal object at 0x782f23d29670>\n"
          ]
        }
      ],
      "source": [
        "# Write your code here\n",
        "class Animal:\n",
        "    pass\n",
        "hewan_1 = Animal()\n",
        "\n",
        "print(hewan_1)"
      ]
    },
    {
      "cell_type": "markdown",
      "id": "17e4f927",
      "metadata": {
        "id": "17e4f927"
      },
      "source": [
        "**Tugas 2**:<br>\n",
        "Modifikasi kelas `Animal` agar menerima `name` dan `colour` sebagai parameter.  \n",
        "Simpan keduanya sebagai *intance attribute*.\n",
        "\n",
        "Tampilkan `nama dari hewan_1` dan `warna dari hewan_1`"
      ]
    },
    {
      "cell_type": "code",
      "execution_count": 104,
      "id": "933b7c22",
      "metadata": {
        "id": "933b7c22",
        "colab": {
          "base_uri": "https://localhost:8080/"
        },
        "outputId": "69e7c166-41ee-47c6-f019-f0a1fccb97a5"
      },
      "outputs": [
        {
          "output_type": "stream",
          "name": "stdout",
          "text": [
            "Nama: Kucing\n",
            "Warna: Putih\n"
          ]
        }
      ],
      "source": [
        "# Write your code here\n",
        "class Animal:\n",
        "    def __init__(self, name, colour):\n",
        "        self.name = name\n",
        "        self.colour = colour\n",
        "hewan_1 = Animal(\"Kucing\", \"Putih\")\n",
        "\n",
        "print(\"Nama:\", hewan_1.name)\n",
        "print(\"Warna:\", hewan_1.colour)"
      ]
    },
    {
      "cell_type": "markdown",
      "id": "c36477bb",
      "metadata": {
        "id": "c36477bb"
      },
      "source": [
        "**Tugas 3**:<br>\n",
        "Tambahkan method `greet()` ke dalam kelas `Animal` yang mencetak `(Silakan buat sekreatif mungkin)`.<br>\n",
        "Panggil `hewan_1.greet()`."
      ]
    },
    {
      "cell_type": "code",
      "execution_count": 105,
      "id": "5401fd85",
      "metadata": {
        "id": "5401fd85",
        "colab": {
          "base_uri": "https://localhost:8080/"
        },
        "outputId": "5f2af834-29cd-4a88-bfa3-c266540bff65"
      },
      "outputs": [
        {
          "output_type": "stream",
          "name": "stdout",
          "text": [
            "Halo! Aku Kucing yang berwarna Putih. Senang bertemu denganmu!\n"
          ]
        }
      ],
      "source": [
        "# Write your code here\n",
        "class Animal:\n",
        "    def __init__(self, name, colour):\n",
        "        self.name = name\n",
        "        self.colour = colour\n",
        "\n",
        "    def greet(self):\n",
        "        print(f\"Halo! Aku {self.name} yang berwarna {self.colour}. Senang bertemu denganmu!\")\n",
        "hewan_1 = Animal(\"Kucing\", \"Putih\")\n",
        "\n",
        "hewan_1.greet()"
      ]
    },
    {
      "cell_type": "markdown",
      "id": "df85262a",
      "metadata": {
        "id": "df85262a"
      },
      "source": [
        "**Tugas 4**:<br>\n",
        "Buat dua objek `hewan_1` dan `hewan_2` dari kelas `Animal`.<br>\n",
        "Berikan nama dan umur berbeda, dan panggil `greet()` untuk keduanya."
      ]
    },
    {
      "cell_type": "code",
      "execution_count": 106,
      "id": "efecad5c",
      "metadata": {
        "id": "efecad5c",
        "colab": {
          "base_uri": "https://localhost:8080/"
        },
        "outputId": "a6fb2d8a-2211-463a-8e5b-8142dd9b99ca"
      },
      "outputs": [
        {
          "output_type": "stream",
          "name": "stdout",
          "text": [
            "Halo! Aku Kucing, berumur 2 tahun. Senang bertemu denganmu!\n",
            "Halo! Aku Anjing, berumur 5 tahun. Senang bertemu denganmu!\n"
          ]
        }
      ],
      "source": [
        "# Write your code here\n",
        "class Animal:\n",
        "    def __init__(self, name, age):\n",
        "        self.name = name\n",
        "        self.age = age\n",
        "\n",
        "    def greet(self):\n",
        "        print(f\"Halo! Aku {self.name}, berumur {self.age} tahun. Senang bertemu denganmu!\")\n",
        "\n",
        "hewan_1 = Animal(\"Kucing\", 2)\n",
        "hewan_2 = Animal(\"Anjing\", 5)\n",
        "\n",
        "hewan_1.greet()\n",
        "hewan_2.greet()"
      ]
    },
    {
      "cell_type": "markdown",
      "id": "356c78c8",
      "metadata": {
        "id": "356c78c8"
      },
      "source": [
        "**Tugas 5**:<br>\n",
        "Tambahkan variabel kelas `kingdom = \"Animalia\"` pada kelas `Animal`.<br>\n",
        "Tampilkan `hewan_1.kingdom`, `hewan_2.kingdom`, dan `Animal.kingdom`."
      ]
    },
    {
      "cell_type": "code",
      "execution_count": 107,
      "id": "5ee33452",
      "metadata": {
        "id": "5ee33452",
        "colab": {
          "base_uri": "https://localhost:8080/"
        },
        "outputId": "9c738538-05e0-4c79-a6fd-e6dc87e9542a"
      },
      "outputs": [
        {
          "output_type": "stream",
          "name": "stdout",
          "text": [
            "Animalia\n",
            "Animalia\n",
            "Animalia\n"
          ]
        }
      ],
      "source": [
        "# Write your code here\n",
        "class Animal:\n",
        "    kingdom = \"Animalia\"\n",
        "    def __init__(self, name, age):\n",
        "        self.name = name\n",
        "        self.age = age\n",
        "\n",
        "    def greet(self):\n",
        "        print(f\"Halo! Aku {self.name}, berumur {self.age} tahun.\")\n",
        "\n",
        "hewan_1 = Animal(\"Kucing\", 2)\n",
        "hewan_2 = Animal(\"Anjing\", 5)\n",
        "\n",
        "print(hewan_1.kingdom)\n",
        "print(hewan_2.kingdom)\n",
        "print(Animal.kingdom)"
      ]
    },
    {
      "cell_type": "markdown",
      "id": "d036421f",
      "metadata": {
        "id": "d036421f"
      },
      "source": [
        "**Tugas 6**:<br>\n",
        "Ubah `hewan_2.kingdom` menjadi `\"Fungi\"` secara langsung.<br>\n",
        "Perhatikan: Apakah itu mengubah nilai `kingdom` pada `hewan_2` atau `Animal`?"
      ]
    },
    {
      "cell_type": "code",
      "execution_count": 108,
      "id": "c728c1fc",
      "metadata": {
        "id": "c728c1fc",
        "colab": {
          "base_uri": "https://localhost:8080/"
        },
        "outputId": "0dd1958e-1d73-4f7c-c693-d872a6fbcdb9"
      },
      "outputs": [
        {
          "output_type": "stream",
          "name": "stdout",
          "text": [
            "hewan_1.kingdom: Animalia\n",
            "hewan_2.kingdom: Fungi\n",
            "Animal.kingdom: Animalia\n"
          ]
        }
      ],
      "source": [
        "# Write your code here\n",
        "hewan_2.kingdom = \"Fungi\"\n",
        "\n",
        "print(\"hewan_1.kingdom:\", hewan_1.kingdom)\n",
        "print(\"hewan_2.kingdom:\", hewan_2.kingdom)\n",
        "print(\"Animal.kingdom:\", Animal.kingdom)"
      ]
    },
    {
      "cell_type": "markdown",
      "id": "4dc0144e",
      "metadata": {
        "id": "4dc0144e"
      },
      "source": [
        "**Tugas 7**:<br>\n",
        "Tambahkan method `is_rare()` dalam kelas `Animal`<br>\n",
        "Return\n",
        "- `False` jika warnanya putih, hitam, atau abu-abu\n",
        "- `True` jika selainnya\n",
        "\n",
        "Uji dengan memanggil `hewan_1.is_rare()`."
      ]
    },
    {
      "cell_type": "code",
      "execution_count": 109,
      "id": "7d2ead7f",
      "metadata": {
        "id": "7d2ead7f",
        "colab": {
          "base_uri": "https://localhost:8080/"
        },
        "outputId": "bcc8d770-d9e6-4dbd-8cc0-67a297930881"
      },
      "outputs": [
        {
          "output_type": "stream",
          "name": "stdout",
          "text": [
            "False\n",
            "True\n"
          ]
        }
      ],
      "source": [
        "# Write your code here\n",
        "class Animal:\n",
        "    kingdom = \"Animalia\"\n",
        "    def __init__(self, name, colour):\n",
        "        self.name = name\n",
        "        self.colour = colour\n",
        "    def greet(self):\n",
        "        print(f\"Halo! Aku {self.name}, warnaku {self.colour}.\")\n",
        "    def is_rare(self):\n",
        "        if self.colour.lower() in [\"putih\", \"hitam\", \"abu-abu\"]:\n",
        "            return False\n",
        "        else:\n",
        "            return True\n",
        "\n",
        "hewan_1 = Animal(\"Kucing\", \"Putih\")\n",
        "hewan_2 = Animal(\"Burung\", \"Merah\")\n",
        "\n",
        "print(hewan_1.is_rare())\n",
        "print(hewan_2.is_rare())"
      ]
    },
    {
      "cell_type": "markdown",
      "id": "97963586",
      "metadata": {
        "id": "97963586"
      },
      "source": [
        "**Tugas 8:**  \n",
        "Buat kelas `Device` dengan atribut `brand`.  \n",
        "Buat dua kelas `Phone` dan `Laptop` yang mewarisi dari `Device`.  \n",
        "Tambahkan atribut `model` di `Phone` dan `Laptop`.  \n",
        "Cetak brand dan model dari masing-masing objek `Phone` dan `Laptop`."
      ]
    },
    {
      "cell_type": "code",
      "execution_count": 101,
      "id": "5b107cf6",
      "metadata": {
        "id": "5b107cf6"
      },
      "outputs": [],
      "source": [
        "# Write your code here\n",
        "class Animal:\n",
        "    def __init__(self, name):\n",
        "        self.name = name\n",
        "\n",
        "    def speak(self):\n",
        "        print(f\"{self.name} makes a sound.\")\n",
        "\n",
        "class Dog(Animal):\n",
        "    def speak(self):\n",
        "        print(f\"{self.name} barks.\")"
      ]
    },
    {
      "cell_type": "markdown",
      "id": "0a561776",
      "metadata": {
        "id": "0a561776"
      },
      "source": [
        "**Tugas 9:**  \n",
        "Tambahkan method `info()` pada `Device` yang mencetak `\"Perangkat umum.\"`  \n",
        "Override method tersebut di `Phone` dan `Laptop`:\n",
        "- `Phone`: cetak `\"<brand> <model> adalah ponsel.\"`\n",
        "- `Laptop`: cetak `\"<brand> <model> adalah laptop.\"`"
      ]
    },
    {
      "cell_type": "code",
      "execution_count": 102,
      "id": "9a1087ac",
      "metadata": {
        "id": "9a1087ac"
      },
      "outputs": [],
      "source": [
        "# Write your code here\n",
        "class Device:\n",
        "    def info(self):\n",
        "        print(\"Perangkat umum.\")\n",
        "\n",
        "class Phone(Device):\n",
        "    def __init__(self, brand, model):\n",
        "        self.brand = brand\n",
        "        self.model = model\n",
        "\n",
        "    def info(self):\n",
        "        print(f\"{self.brand} {self.model} adalah ponsel.\")"
      ]
    },
    {
      "cell_type": "markdown",
      "id": "45c52bb0",
      "metadata": {
        "id": "45c52bb0"
      },
      "source": [
        "**Tugas 10:**  \n",
        "Tambahkan method `power_on()` di kelas `Device` yang mencetak `\"Menyalakan perangkat...\"`  \n",
        "\n",
        "Kemudian override method tersebut di `Phone` dan `Laptop`:\n",
        "- Di dalam `Phone.power_on()`, panggil `super().power_on()` lalu cetak `\"Memulai sistem ponsel.\"`\n",
        "- Di dalam `Laptop.power_on()`, panggil `super().power_on()` lalu cetak `\"Menyalakan sistem operasi laptop.\"`\n",
        "\n",
        "Definisikan ulang 3 objek:\n",
        "- d = Device()\n",
        "- p = Phone()\n",
        "- l = Laptop()\n",
        "\n",
        "Panggil method tersebut pada objek `d`, `p`, dan `l`."
      ]
    },
    {
      "cell_type": "code",
      "execution_count": 164,
      "id": "6bf8013e",
      "metadata": {
        "id": "6bf8013e",
        "colab": {
          "base_uri": "https://localhost:8080/"
        },
        "outputId": "f0c1aaac-0e2d-46ce-be5b-34f85c3fb22e"
      },
      "outputs": [
        {
          "output_type": "stream",
          "name": "stdout",
          "text": [
            "Menyalakan perangkat...\n",
            "---\n",
            "Menyalakan perangkat...\n",
            "Memulai sistem ponsel.\n",
            "---\n",
            "Menyalakan perangkat...\n",
            "Menyalakan sistem operasi laptop.\n"
          ]
        }
      ],
      "source": [
        "# Write your code here\n",
        "class Device:\n",
        "    def power_on(self):\n",
        "        print(\"Menyalakan perangkat...\")\n",
        "class Phone(Device):\n",
        "    def power_on(self):\n",
        "        super().power_on()\n",
        "        print(\"Memulai sistem ponsel.\")\n",
        "class Laptop(Device):\n",
        "    def power_on(self):\n",
        "        super().power_on()\n",
        "        print(\"Menyalakan sistem operasi laptop.\")\n",
        "\n",
        "d = Device()\n",
        "p = Phone()\n",
        "l = Laptop()\n",
        "\n",
        "d.power_on()\n",
        "print(\"---\")\n",
        "p.power_on()\n",
        "print(\"---\")\n",
        "l.power_on()"
      ]
    }
  ],
  "metadata": {
    "kernelspec": {
      "display_name": ".venv",
      "language": "python",
      "name": "python3"
    },
    "language_info": {
      "codemirror_mode": {
        "name": "ipython",
        "version": 3
      },
      "file_extension": ".py",
      "mimetype": "text/x-python",
      "name": "python",
      "nbconvert_exporter": "python",
      "pygments_lexer": "ipython3",
      "version": "3.13.1"
    },
    "colab": {
      "provenance": []
    }
  },
  "nbformat": 4,
  "nbformat_minor": 5
}