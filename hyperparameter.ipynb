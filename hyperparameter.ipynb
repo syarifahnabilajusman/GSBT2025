{
  "cells": [
    {
      "cell_type": "code",
      "execution_count": 5,
      "metadata": {
        "colab": {
          "base_uri": "https://localhost:8080/"
        },
        "id": "qEAIBpt0U6H9",
        "outputId": "625c97e5-f753-4df1-a16d-4607dc766981"
      },
      "outputs": [
        {
          "output_type": "stream",
          "name": "stdout",
          "text": [
            "Requirement already satisfied: optuna in /usr/local/lib/python3.12/dist-packages (4.5.0)\n",
            "Requirement already satisfied: scikit-learn in /usr/local/lib/python3.12/dist-packages (1.6.1)\n",
            "Requirement already satisfied: alembic>=1.5.0 in /usr/local/lib/python3.12/dist-packages (from optuna) (1.16.5)\n",
            "Requirement already satisfied: colorlog in /usr/local/lib/python3.12/dist-packages (from optuna) (6.9.0)\n",
            "Requirement already satisfied: numpy in /usr/local/lib/python3.12/dist-packages (from optuna) (2.0.2)\n",
            "Requirement already satisfied: packaging>=20.0 in /usr/local/lib/python3.12/dist-packages (from optuna) (25.0)\n",
            "Requirement already satisfied: sqlalchemy>=1.4.2 in /usr/local/lib/python3.12/dist-packages (from optuna) (2.0.43)\n",
            "Requirement already satisfied: tqdm in /usr/local/lib/python3.12/dist-packages (from optuna) (4.67.1)\n",
            "Requirement already satisfied: PyYAML in /usr/local/lib/python3.12/dist-packages (from optuna) (6.0.3)\n",
            "Requirement already satisfied: scipy>=1.6.0 in /usr/local/lib/python3.12/dist-packages (from scikit-learn) (1.16.2)\n",
            "Requirement already satisfied: joblib>=1.2.0 in /usr/local/lib/python3.12/dist-packages (from scikit-learn) (1.5.2)\n",
            "Requirement already satisfied: threadpoolctl>=3.1.0 in /usr/local/lib/python3.12/dist-packages (from scikit-learn) (3.6.0)\n",
            "Requirement already satisfied: Mako in /usr/local/lib/python3.12/dist-packages (from alembic>=1.5.0->optuna) (1.3.10)\n",
            "Requirement already satisfied: typing-extensions>=4.12 in /usr/local/lib/python3.12/dist-packages (from alembic>=1.5.0->optuna) (4.15.0)\n",
            "Requirement already satisfied: greenlet>=1 in /usr/local/lib/python3.12/dist-packages (from sqlalchemy>=1.4.2->optuna) (3.2.4)\n",
            "Requirement already satisfied: MarkupSafe>=0.9.2 in /usr/local/lib/python3.12/dist-packages (from Mako->alembic>=1.5.0->optuna) (3.0.3)\n"
          ]
        }
      ],
      "source": [
        "!pip install optuna scikit-learn\n"
      ]
    },
    {
      "cell_type": "code",
      "execution_count": null,
      "metadata": {
        "colab": {
          "background_save": true,
          "base_uri": "https://localhost:8080/"
        },
        "id": "TKHqtl04VMgH",
        "outputId": "c91e93f6-df77-407d-9067-4d9a5893844b"
      },
      "outputs": [
        {
          "name": "stderr",
          "output_type": "stream",
          "text": [
            "[I 2025-10-04 17:46:56,134] A new study created in memory with name: no-name-fa47fb92-65e0-4aae-af15-cca333277a21\n",
            "[I 2025-10-04 17:46:57,227] Trial 0 finished with value: 0.9583333333333334 and parameters: {'n_estimators': 139, 'max_depth': 3, 'min_samples_split': 9, 'min_samples_leaf': 1}. Best is trial 0 with value: 0.9583333333333334.\n",
            "[I 2025-10-04 17:46:59,522] Trial 1 finished with value: 0.9666666666666668 and parameters: {'n_estimators': 188, 'max_depth': 15, 'min_samples_split': 5, 'min_samples_leaf': 4}. Best is trial 1 with value: 0.9666666666666668.\n",
            "[I 2025-10-04 17:47:00,990] Trial 2 finished with value: 0.9583333333333334 and parameters: {'n_estimators': 173, 'max_depth': 16, 'min_samples_split': 10, 'min_samples_leaf': 5}. Best is trial 1 with value: 0.9666666666666668.\n",
            "[I 2025-10-04 17:47:02,477] Trial 3 finished with value: 0.9666666666666668 and parameters: {'n_estimators': 195, 'max_depth': 4, 'min_samples_split': 9, 'min_samples_leaf': 2}. Best is trial 1 with value: 0.9666666666666668.\n",
            "[I 2025-10-04 17:47:03,456] Trial 4 finished with value: 0.95 and parameters: {'n_estimators': 128, 'max_depth': 2, 'min_samples_split': 10, 'min_samples_leaf': 5}. Best is trial 1 with value: 0.9666666666666668.\n",
            "[I 2025-10-04 17:47:05,741] Trial 5 finished with value: 0.9583333333333334 and parameters: {'n_estimators': 278, 'max_depth': 6, 'min_samples_split': 8, 'min_samples_leaf': 2}. Best is trial 1 with value: 0.9666666666666668.\n",
            "[I 2025-10-04 17:47:06,459] Trial 6 finished with value: 0.9583333333333334 and parameters: {'n_estimators': 92, 'max_depth': 6, 'min_samples_split': 9, 'min_samples_leaf': 4}. Best is trial 1 with value: 0.9666666666666668.\n",
            "[I 2025-10-04 17:47:07,905] Trial 7 finished with value: 0.9666666666666668 and parameters: {'n_estimators': 190, 'max_depth': 17, 'min_samples_split': 7, 'min_samples_leaf': 3}. Best is trial 1 with value: 0.9666666666666668.\n",
            "[I 2025-10-04 17:47:09,633] Trial 8 finished with value: 0.9666666666666668 and parameters: {'n_estimators': 227, 'max_depth': 20, 'min_samples_split': 3, 'min_samples_leaf': 5}. Best is trial 1 with value: 0.9666666666666668.\n",
            "[I 2025-10-04 17:47:12,697] Trial 9 finished with value: 0.95 and parameters: {'n_estimators': 267, 'max_depth': 11, 'min_samples_split': 2, 'min_samples_leaf': 1}. Best is trial 1 with value: 0.9666666666666668.\n",
            "[I 2025-10-04 17:47:13,165] Trial 10 finished with value: 0.9666666666666668 and parameters: {'n_estimators': 58, 'max_depth': 12, 'min_samples_split': 5, 'min_samples_leaf': 4}. Best is trial 1 with value: 0.9666666666666668.\n",
            "[I 2025-10-04 17:47:14,837] Trial 11 finished with value: 0.9583333333333334 and parameters: {'n_estimators': 216, 'max_depth': 12, 'min_samples_split': 6, 'min_samples_leaf': 3}. Best is trial 1 with value: 0.9666666666666668.\n",
            "[I 2025-10-04 17:47:16,081] Trial 12 finished with value: 0.9666666666666668 and parameters: {'n_estimators': 162, 'max_depth': 9, 'min_samples_split': 4, 'min_samples_leaf': 2}. Best is trial 1 with value: 0.9666666666666668.\n",
            "[I 2025-10-04 17:47:17,912] Trial 13 finished with value: 0.9583333333333334 and parameters: {'n_estimators': 239, 'max_depth': 15, 'min_samples_split': 6, 'min_samples_leaf': 3}. Best is trial 1 with value: 0.9666666666666668.\n",
            "[I 2025-10-04 17:47:19,443] Trial 14 finished with value: 0.9666666666666668 and parameters: {'n_estimators': 201, 'max_depth': 7, 'min_samples_split': 5, 'min_samples_leaf': 2}. Best is trial 1 with value: 0.9666666666666668.\n",
            "[I 2025-10-04 17:47:20,507] Trial 15 finished with value: 0.9583333333333334 and parameters: {'n_estimators': 138, 'max_depth': 20, 'min_samples_split': 7, 'min_samples_leaf': 4}. Best is trial 1 with value: 0.9666666666666668.\n",
            "[I 2025-10-04 17:47:22,423] Trial 16 finished with value: 0.9583333333333334 and parameters: {'n_estimators': 250, 'max_depth': 14, 'min_samples_split': 4, 'min_samples_leaf': 2}. Best is trial 1 with value: 0.9666666666666668.\n",
            "[I 2025-10-04 17:47:26,118] Trial 17 finished with value: 0.9583333333333334 and parameters: {'n_estimators': 298, 'max_depth': 4, 'min_samples_split': 8, 'min_samples_leaf': 3}. Best is trial 1 with value: 0.9666666666666668.\n",
            "[I 2025-10-04 17:47:27,389] Trial 18 finished with value: 0.9583333333333334 and parameters: {'n_estimators': 163, 'max_depth': 9, 'min_samples_split': 7, 'min_samples_leaf': 4}. Best is trial 1 with value: 0.9666666666666668.\n",
            "[I 2025-10-04 17:47:28,132] Trial 19 finished with value: 0.9583333333333334 and parameters: {'n_estimators': 96, 'max_depth': 18, 'min_samples_split': 5, 'min_samples_leaf': 1}. Best is trial 1 with value: 0.9666666666666668.\n",
            "[I 2025-10-04 17:47:29,734] Trial 20 finished with value: 0.9583333333333334 and parameters: {'n_estimators': 203, 'max_depth': 13, 'min_samples_split': 2, 'min_samples_leaf': 3}. Best is trial 1 with value: 0.9666666666666668.\n",
            "[I 2025-10-04 17:47:31,204] Trial 21 finished with value: 0.9666666666666668 and parameters: {'n_estimators': 191, 'max_depth': 17, 'min_samples_split': 7, 'min_samples_leaf': 3}. Best is trial 1 with value: 0.9666666666666668.\n",
            "[I 2025-10-04 17:47:32,600] Trial 22 finished with value: 0.9583333333333334 and parameters: {'n_estimators': 179, 'max_depth': 17, 'min_samples_split': 8, 'min_samples_leaf': 4}. Best is trial 1 with value: 0.9666666666666668.\n",
            "[I 2025-10-04 17:47:34,225] Trial 23 finished with value: 0.9583333333333334 and parameters: {'n_estimators': 213, 'max_depth': 18, 'min_samples_split': 6, 'min_samples_leaf': 2}. Best is trial 1 with value: 0.9666666666666668.\n",
            "[I 2025-10-04 17:47:35,676] Trial 24 finished with value: 0.9583333333333334 and parameters: {'n_estimators': 158, 'max_depth': 15, 'min_samples_split': 9, 'min_samples_leaf': 3}. Best is trial 1 with value: 0.9666666666666668.\n",
            "[I 2025-10-04 17:47:37,843] Trial 25 finished with value: 0.9666666666666668 and parameters: {'n_estimators': 181, 'max_depth': 10, 'min_samples_split': 4, 'min_samples_leaf': 2}. Best is trial 1 with value: 0.9666666666666668.\n",
            "[I 2025-10-04 17:47:39,637] Trial 26 finished with value: 0.9583333333333334 and parameters: {'n_estimators': 235, 'max_depth': 19, 'min_samples_split': 7, 'min_samples_leaf': 4}. Best is trial 1 with value: 0.9666666666666668.\n",
            "[I 2025-10-04 17:47:40,485] Trial 27 finished with value: 0.9583333333333334 and parameters: {'n_estimators': 108, 'max_depth': 14, 'min_samples_split': 8, 'min_samples_leaf': 3}. Best is trial 1 with value: 0.9666666666666668.\n",
            "[I 2025-10-04 17:47:41,993] Trial 28 finished with value: 0.9583333333333334 and parameters: {'n_estimators': 192, 'max_depth': 16, 'min_samples_split': 6, 'min_samples_leaf': 3}. Best is trial 1 with value: 0.9666666666666668.\n",
            "[I 2025-10-04 17:47:43,131] Trial 29 finished with value: 0.9583333333333334 and parameters: {'n_estimators': 146, 'max_depth': 4, 'min_samples_split': 9, 'min_samples_leaf': 1}. Best is trial 1 with value: 0.9666666666666668.\n",
            "[I 2025-10-04 17:47:44,821] Trial 30 finished with value: 0.9583333333333334 and parameters: {'n_estimators': 222, 'max_depth': 8, 'min_samples_split': 10, 'min_samples_leaf': 4}. Best is trial 1 with value: 0.9666666666666668.\n",
            "[I 2025-10-04 17:47:46,755] Trial 31 finished with value: 0.9666666666666668 and parameters: {'n_estimators': 254, 'max_depth': 19, 'min_samples_split': 3, 'min_samples_leaf': 5}. Best is trial 1 with value: 0.9666666666666668.\n",
            "[I 2025-10-04 17:47:48,988] Trial 32 finished with value: 0.9583333333333334 and parameters: {'n_estimators': 229, 'max_depth': 20, 'min_samples_split': 3, 'min_samples_leaf': 5}. Best is trial 1 with value: 0.9666666666666668.\n",
            "[I 2025-10-04 17:47:51,080] Trial 33 finished with value: 0.9666666666666668 and parameters: {'n_estimators': 206, 'max_depth': 17, 'min_samples_split': 3, 'min_samples_leaf': 5}. Best is trial 1 with value: 0.9666666666666668.\n",
            "[I 2025-10-04 17:47:52,476] Trial 34 finished with value: 0.9583333333333334 and parameters: {'n_estimators': 183, 'max_depth': 19, 'min_samples_split': 5, 'min_samples_leaf': 5}. Best is trial 1 with value: 0.9666666666666668.\n",
            "[I 2025-10-04 17:47:53,809] Trial 35 finished with value: 0.9583333333333334 and parameters: {'n_estimators': 170, 'max_depth': 16, 'min_samples_split': 9, 'min_samples_leaf': 5}. Best is trial 1 with value: 0.9666666666666668.\n",
            "[I 2025-10-04 17:47:54,968] Trial 36 finished with value: 0.9583333333333334 and parameters: {'n_estimators': 149, 'max_depth': 18, 'min_samples_split': 10, 'min_samples_leaf': 4}. Best is trial 1 with value: 0.9666666666666668.\n",
            "[I 2025-10-04 17:47:57,001] Trial 37 finished with value: 0.9666666666666668 and parameters: {'n_estimators': 266, 'max_depth': 2, 'min_samples_split': 4, 'min_samples_leaf': 4}. Best is trial 1 with value: 0.9666666666666668.\n",
            "[I 2025-10-04 17:47:57,949] Trial 38 finished with value: 0.9666666666666668 and parameters: {'n_estimators': 121, 'max_depth': 5, 'min_samples_split': 2, 'min_samples_leaf': 5}. Best is trial 1 with value: 0.9666666666666668.\n",
            "[I 2025-10-04 17:47:59,474] Trial 39 finished with value: 0.9666666666666668 and parameters: {'n_estimators': 196, 'max_depth': 12, 'min_samples_split': 8, 'min_samples_leaf': 2}. Best is trial 1 with value: 0.9666666666666668.\n",
            "[I 2025-10-04 17:48:01,981] Trial 40 finished with value: 0.95 and parameters: {'n_estimators': 248, 'max_depth': 15, 'min_samples_split': 6, 'min_samples_leaf': 1}. Best is trial 1 with value: 0.9666666666666668.\n",
            "[I 2025-10-04 17:48:04,298] Trial 41 finished with value: 0.9583333333333334 and parameters: {'n_estimators': 215, 'max_depth': 11, 'min_samples_split': 5, 'min_samples_leaf': 4}. Best is trial 1 with value: 0.9666666666666668.\n",
            "[I 2025-10-04 17:48:04,822] Trial 42 finished with value: 0.9666666666666668 and parameters: {'n_estimators': 65, 'max_depth': 12, 'min_samples_split': 5, 'min_samples_leaf': 4}. Best is trial 1 with value: 0.9666666666666668.\n",
            "[I 2025-10-04 17:48:06,572] Trial 43 finished with value: 0.9583333333333334 and parameters: {'n_estimators': 228, 'max_depth': 13, 'min_samples_split': 3, 'min_samples_leaf': 5}. Best is trial 1 with value: 0.9666666666666668.\n",
            "[I 2025-10-04 17:48:07,517] Trial 44 finished with value: 0.9666666666666668 and parameters: {'n_estimators': 120, 'max_depth': 14, 'min_samples_split': 4, 'min_samples_leaf': 3}. Best is trial 1 with value: 0.9666666666666668.\n",
            "[I 2025-10-04 17:48:08,095] Trial 45 finished with value: 0.9583333333333334 and parameters: {'n_estimators': 74, 'max_depth': 7, 'min_samples_split': 6, 'min_samples_leaf': 4}. Best is trial 1 with value: 0.9666666666666668.\n",
            "[I 2025-10-04 17:48:08,519] Trial 46 finished with value: 0.9583333333333334 and parameters: {'n_estimators': 51, 'max_depth': 20, 'min_samples_split': 7, 'min_samples_leaf': 3}. Best is trial 1 with value: 0.9666666666666668.\n",
            "[I 2025-10-04 17:48:09,876] Trial 47 finished with value: 0.9666666666666668 and parameters: {'n_estimators': 175, 'max_depth': 13, 'min_samples_split': 5, 'min_samples_leaf': 2}. Best is trial 1 with value: 0.9666666666666668.\n",
            "[I 2025-10-04 17:48:10,937] Trial 48 finished with value: 0.9583333333333334 and parameters: {'n_estimators': 136, 'max_depth': 10, 'min_samples_split': 4, 'min_samples_leaf': 4}. Best is trial 1 with value: 0.9666666666666668.\n",
            "[I 2025-10-04 17:48:13,314] Trial 49 finished with value: 0.9583333333333334 and parameters: {'n_estimators': 291, 'max_depth': 16, 'min_samples_split': 6, 'min_samples_leaf': 5}. Best is trial 1 with value: 0.9666666666666668.\n"
          ]
        },
        {
          "name": "stdout",
          "output_type": "stream",
          "text": [
            "Best Trial:\n",
            "Accuracy: 0.9666666666666668\n",
            "Best hyperparameters: {'n_estimators': 188, 'max_depth': 15, 'min_samples_split': 5, 'min_samples_leaf': 4}\n"
          ]
        }
      ],
      "source": [
        "import optuna\n",
        "from sklearn.datasets import load_iris\n",
        "from sklearn.model_selection import cross_val_score, StratifiedKFold\n",
        "from sklearn.ensemble import RandomForestClassifier\n",
        "from sklearn.metrics import accuracy_score\n",
        "from sklearn.model_selection import train_test_split\n",
        "\n",
        "X, y = load_iris(return_X_y=True)\n",
        "X_train, X_test, y_train, y_test = train_test_split(X, y, test_size=0.2, random_state=42, stratify=y)\n",
        "\n",
        "def objective(trial):\n",
        "    n_estimators = trial.suggest_int('n_estimators', 50, 300)\n",
        "    max_depth = trial.suggest_int('max_depth', 2, 20)\n",
        "    min_samples_split = trial.suggest_int('min_samples_split', 2, 10)\n",
        "    min_samples_leaf = trial.suggest_int('min_samples_leaf', 1, 5)\n",
        "\n",
        "    clf = RandomForestClassifier(\n",
        "        n_estimators=n_estimators,\n",
        "        max_depth=max_depth,\n",
        "        min_samples_split=min_samples_split,\n",
        "        min_samples_leaf=min_samples_leaf,\n",
        "        random_state=42\n",
        "    )\n",
        "\n",
        "    cv = StratifiedKFold(n_splits=5, shuffle=True, random_state=42)\n",
        "    scores = cross_val_score(clf, X_train, y_train, cv=cv, scoring='accuracy')\n",
        "\n",
        "    return scores.mean()\n",
        "\n",
        "study = optuna.create_study(direction='maximize')\n",
        "study.optimize(objective, n_trials=50)\n",
        "\n",
        "print(\"Best Trial:\")\n",
        "trial = study.best_trial\n",
        "print(f\"Accuracy: {trial.value}\")\n",
        "print(\"Best hyperparameters:\", trial.params)\n"
      ]
    },
    {
      "cell_type": "code",
      "execution_count": 6,
      "metadata": {
        "id": "sAX3PjtSVeHC",
        "colab": {
          "base_uri": "https://localhost:8080/"
        },
        "outputId": "56d17dec-17e1-4b85-a9ea-4471de0d711a"
      },
      "outputs": [
        {
          "output_type": "stream",
          "name": "stdout",
          "text": [
            "Akurasi pada data uji: 0.9333\n"
          ]
        }
      ],
      "source": [
        "best_params = trial.params\n",
        "best_model = RandomForestClassifier(**best_params, random_state=42)\n",
        "best_model.fit(X_train, y_train)\n",
        "\n",
        "y_pred = best_model.predict(X_test)\n",
        "acc = accuracy_score(y_test, y_pred)\n",
        "print(f\"Akurasi pada data uji: {acc:.4f}\")\n"
      ]
    },
    {
      "cell_type": "code",
      "source": [
        "optuna.visualization.plot_optimization_history(study)\n",
        "optuna.visualization.plot_param_importances(study)\n"
      ],
      "metadata": {
        "colab": {
          "base_uri": "https://localhost:8080/",
          "height": 542
        },
        "id": "7vDiUY_JWbuF",
        "outputId": "2614cc3a-9684-42fa-c7f8-a30b04bafed0"
      },
      "execution_count": 7,
      "outputs": [
        {
          "output_type": "display_data",
          "data": {
            "text/html": [
              "<html>\n",
              "<head><meta charset=\"utf-8\" /></head>\n",
              "<body>\n",
              "    <div>            <script src=\"https://cdnjs.cloudflare.com/ajax/libs/mathjax/2.7.5/MathJax.js?config=TeX-AMS-MML_SVG\"></script><script type=\"text/javascript\">if (window.MathJax && window.MathJax.Hub && window.MathJax.Hub.Config) {window.MathJax.Hub.Config({SVG: {font: \"STIX-Web\"}});}</script>                <script type=\"text/javascript\">window.PlotlyConfig = {MathJaxConfig: 'local'};</script>\n",
              "        <script charset=\"utf-8\" src=\"https://cdn.plot.ly/plotly-2.35.2.min.js\"></script>                <div id=\"939f015b-199b-4cf1-8b15-a0ce65286758\" class=\"plotly-graph-div\" style=\"height:525px; width:100%;\"></div>            <script type=\"text/javascript\">                                    window.PLOTLYENV=window.PLOTLYENV || {};                                    if (document.getElementById(\"939f015b-199b-4cf1-8b15-a0ce65286758\")) {                    Plotly.newPlot(                        \"939f015b-199b-4cf1-8b15-a0ce65286758\",                        [{\"cliponaxis\":false,\"hovertemplate\":[\"max_depth (IntDistribution): 0.09608479518278136\\u003cextra\\u003e\\u003c\\u002fextra\\u003e\",\"min_samples_leaf (IntDistribution): 0.24224016565430753\\u003cextra\\u003e\\u003c\\u002fextra\\u003e\",\"n_estimators (IntDistribution): 0.2581671631356126\\u003cextra\\u003e\\u003c\\u002fextra\\u003e\",\"min_samples_split (IntDistribution): 0.40350787602729865\\u003cextra\\u003e\\u003c\\u002fextra\\u003e\"],\"name\":\"Objective Value\",\"orientation\":\"h\",\"text\":[\"0.10\",\"0.24\",\"0.26\",\"0.40\"],\"textposition\":\"outside\",\"x\":[0.09608479518278136,0.24224016565430753,0.2581671631356126,0.40350787602729865],\"y\":[\"max_depth\",\"min_samples_leaf\",\"n_estimators\",\"min_samples_split\"],\"type\":\"bar\"}],                        {\"title\":{\"text\":\"Hyperparameter Importances\"},\"xaxis\":{\"title\":{\"text\":\"Hyperparameter Importance\"}},\"yaxis\":{\"title\":{\"text\":\"Hyperparameter\"}},\"template\":{\"data\":{\"histogram2dcontour\":[{\"type\":\"histogram2dcontour\",\"colorbar\":{\"outlinewidth\":0,\"ticks\":\"\"},\"colorscale\":[[0.0,\"#0d0887\"],[0.1111111111111111,\"#46039f\"],[0.2222222222222222,\"#7201a8\"],[0.3333333333333333,\"#9c179e\"],[0.4444444444444444,\"#bd3786\"],[0.5555555555555556,\"#d8576b\"],[0.6666666666666666,\"#ed7953\"],[0.7777777777777778,\"#fb9f3a\"],[0.8888888888888888,\"#fdca26\"],[1.0,\"#f0f921\"]]}],\"choropleth\":[{\"type\":\"choropleth\",\"colorbar\":{\"outlinewidth\":0,\"ticks\":\"\"}}],\"histogram2d\":[{\"type\":\"histogram2d\",\"colorbar\":{\"outlinewidth\":0,\"ticks\":\"\"},\"colorscale\":[[0.0,\"#0d0887\"],[0.1111111111111111,\"#46039f\"],[0.2222222222222222,\"#7201a8\"],[0.3333333333333333,\"#9c179e\"],[0.4444444444444444,\"#bd3786\"],[0.5555555555555556,\"#d8576b\"],[0.6666666666666666,\"#ed7953\"],[0.7777777777777778,\"#fb9f3a\"],[0.8888888888888888,\"#fdca26\"],[1.0,\"#f0f921\"]]}],\"heatmap\":[{\"type\":\"heatmap\",\"colorbar\":{\"outlinewidth\":0,\"ticks\":\"\"},\"colorscale\":[[0.0,\"#0d0887\"],[0.1111111111111111,\"#46039f\"],[0.2222222222222222,\"#7201a8\"],[0.3333333333333333,\"#9c179e\"],[0.4444444444444444,\"#bd3786\"],[0.5555555555555556,\"#d8576b\"],[0.6666666666666666,\"#ed7953\"],[0.7777777777777778,\"#fb9f3a\"],[0.8888888888888888,\"#fdca26\"],[1.0,\"#f0f921\"]]}],\"heatmapgl\":[{\"type\":\"heatmapgl\",\"colorbar\":{\"outlinewidth\":0,\"ticks\":\"\"},\"colorscale\":[[0.0,\"#0d0887\"],[0.1111111111111111,\"#46039f\"],[0.2222222222222222,\"#7201a8\"],[0.3333333333333333,\"#9c179e\"],[0.4444444444444444,\"#bd3786\"],[0.5555555555555556,\"#d8576b\"],[0.6666666666666666,\"#ed7953\"],[0.7777777777777778,\"#fb9f3a\"],[0.8888888888888888,\"#fdca26\"],[1.0,\"#f0f921\"]]}],\"contourcarpet\":[{\"type\":\"contourcarpet\",\"colorbar\":{\"outlinewidth\":0,\"ticks\":\"\"}}],\"contour\":[{\"type\":\"contour\",\"colorbar\":{\"outlinewidth\":0,\"ticks\":\"\"},\"colorscale\":[[0.0,\"#0d0887\"],[0.1111111111111111,\"#46039f\"],[0.2222222222222222,\"#7201a8\"],[0.3333333333333333,\"#9c179e\"],[0.4444444444444444,\"#bd3786\"],[0.5555555555555556,\"#d8576b\"],[0.6666666666666666,\"#ed7953\"],[0.7777777777777778,\"#fb9f3a\"],[0.8888888888888888,\"#fdca26\"],[1.0,\"#f0f921\"]]}],\"surface\":[{\"type\":\"surface\",\"colorbar\":{\"outlinewidth\":0,\"ticks\":\"\"},\"colorscale\":[[0.0,\"#0d0887\"],[0.1111111111111111,\"#46039f\"],[0.2222222222222222,\"#7201a8\"],[0.3333333333333333,\"#9c179e\"],[0.4444444444444444,\"#bd3786\"],[0.5555555555555556,\"#d8576b\"],[0.6666666666666666,\"#ed7953\"],[0.7777777777777778,\"#fb9f3a\"],[0.8888888888888888,\"#fdca26\"],[1.0,\"#f0f921\"]]}],\"mesh3d\":[{\"type\":\"mesh3d\",\"colorbar\":{\"outlinewidth\":0,\"ticks\":\"\"}}],\"scatter\":[{\"fillpattern\":{\"fillmode\":\"overlay\",\"size\":10,\"solidity\":0.2},\"type\":\"scatter\"}],\"parcoords\":[{\"type\":\"parcoords\",\"line\":{\"colorbar\":{\"outlinewidth\":0,\"ticks\":\"\"}}}],\"scatterpolargl\":[{\"type\":\"scatterpolargl\",\"marker\":{\"colorbar\":{\"outlinewidth\":0,\"ticks\":\"\"}}}],\"bar\":[{\"error_x\":{\"color\":\"#2a3f5f\"},\"error_y\":{\"color\":\"#2a3f5f\"},\"marker\":{\"line\":{\"color\":\"#E5ECF6\",\"width\":0.5},\"pattern\":{\"fillmode\":\"overlay\",\"size\":10,\"solidity\":0.2}},\"type\":\"bar\"}],\"scattergeo\":[{\"type\":\"scattergeo\",\"marker\":{\"colorbar\":{\"outlinewidth\":0,\"ticks\":\"\"}}}],\"scatterpolar\":[{\"type\":\"scatterpolar\",\"marker\":{\"colorbar\":{\"outlinewidth\":0,\"ticks\":\"\"}}}],\"histogram\":[{\"marker\":{\"pattern\":{\"fillmode\":\"overlay\",\"size\":10,\"solidity\":0.2}},\"type\":\"histogram\"}],\"scattergl\":[{\"type\":\"scattergl\",\"marker\":{\"colorbar\":{\"outlinewidth\":0,\"ticks\":\"\"}}}],\"scatter3d\":[{\"type\":\"scatter3d\",\"line\":{\"colorbar\":{\"outlinewidth\":0,\"ticks\":\"\"}},\"marker\":{\"colorbar\":{\"outlinewidth\":0,\"ticks\":\"\"}}}],\"scattermapbox\":[{\"type\":\"scattermapbox\",\"marker\":{\"colorbar\":{\"outlinewidth\":0,\"ticks\":\"\"}}}],\"scatterternary\":[{\"type\":\"scatterternary\",\"marker\":{\"colorbar\":{\"outlinewidth\":0,\"ticks\":\"\"}}}],\"scattercarpet\":[{\"type\":\"scattercarpet\",\"marker\":{\"colorbar\":{\"outlinewidth\":0,\"ticks\":\"\"}}}],\"carpet\":[{\"aaxis\":{\"endlinecolor\":\"#2a3f5f\",\"gridcolor\":\"white\",\"linecolor\":\"white\",\"minorgridcolor\":\"white\",\"startlinecolor\":\"#2a3f5f\"},\"baxis\":{\"endlinecolor\":\"#2a3f5f\",\"gridcolor\":\"white\",\"linecolor\":\"white\",\"minorgridcolor\":\"white\",\"startlinecolor\":\"#2a3f5f\"},\"type\":\"carpet\"}],\"table\":[{\"cells\":{\"fill\":{\"color\":\"#EBF0F8\"},\"line\":{\"color\":\"white\"}},\"header\":{\"fill\":{\"color\":\"#C8D4E3\"},\"line\":{\"color\":\"white\"}},\"type\":\"table\"}],\"barpolar\":[{\"marker\":{\"line\":{\"color\":\"#E5ECF6\",\"width\":0.5},\"pattern\":{\"fillmode\":\"overlay\",\"size\":10,\"solidity\":0.2}},\"type\":\"barpolar\"}],\"pie\":[{\"automargin\":true,\"type\":\"pie\"}]},\"layout\":{\"autotypenumbers\":\"strict\",\"colorway\":[\"#636efa\",\"#EF553B\",\"#00cc96\",\"#ab63fa\",\"#FFA15A\",\"#19d3f3\",\"#FF6692\",\"#B6E880\",\"#FF97FF\",\"#FECB52\"],\"font\":{\"color\":\"#2a3f5f\"},\"hovermode\":\"closest\",\"hoverlabel\":{\"align\":\"left\"},\"paper_bgcolor\":\"white\",\"plot_bgcolor\":\"#E5ECF6\",\"polar\":{\"bgcolor\":\"#E5ECF6\",\"angularaxis\":{\"gridcolor\":\"white\",\"linecolor\":\"white\",\"ticks\":\"\"},\"radialaxis\":{\"gridcolor\":\"white\",\"linecolor\":\"white\",\"ticks\":\"\"}},\"ternary\":{\"bgcolor\":\"#E5ECF6\",\"aaxis\":{\"gridcolor\":\"white\",\"linecolor\":\"white\",\"ticks\":\"\"},\"baxis\":{\"gridcolor\":\"white\",\"linecolor\":\"white\",\"ticks\":\"\"},\"caxis\":{\"gridcolor\":\"white\",\"linecolor\":\"white\",\"ticks\":\"\"}},\"coloraxis\":{\"colorbar\":{\"outlinewidth\":0,\"ticks\":\"\"}},\"colorscale\":{\"sequential\":[[0.0,\"#0d0887\"],[0.1111111111111111,\"#46039f\"],[0.2222222222222222,\"#7201a8\"],[0.3333333333333333,\"#9c179e\"],[0.4444444444444444,\"#bd3786\"],[0.5555555555555556,\"#d8576b\"],[0.6666666666666666,\"#ed7953\"],[0.7777777777777778,\"#fb9f3a\"],[0.8888888888888888,\"#fdca26\"],[1.0,\"#f0f921\"]],\"sequentialminus\":[[0.0,\"#0d0887\"],[0.1111111111111111,\"#46039f\"],[0.2222222222222222,\"#7201a8\"],[0.3333333333333333,\"#9c179e\"],[0.4444444444444444,\"#bd3786\"],[0.5555555555555556,\"#d8576b\"],[0.6666666666666666,\"#ed7953\"],[0.7777777777777778,\"#fb9f3a\"],[0.8888888888888888,\"#fdca26\"],[1.0,\"#f0f921\"]],\"diverging\":[[0,\"#8e0152\"],[0.1,\"#c51b7d\"],[0.2,\"#de77ae\"],[0.3,\"#f1b6da\"],[0.4,\"#fde0ef\"],[0.5,\"#f7f7f7\"],[0.6,\"#e6f5d0\"],[0.7,\"#b8e186\"],[0.8,\"#7fbc41\"],[0.9,\"#4d9221\"],[1,\"#276419\"]]},\"xaxis\":{\"gridcolor\":\"white\",\"linecolor\":\"white\",\"ticks\":\"\",\"title\":{\"standoff\":15},\"zerolinecolor\":\"white\",\"automargin\":true,\"zerolinewidth\":2},\"yaxis\":{\"gridcolor\":\"white\",\"linecolor\":\"white\",\"ticks\":\"\",\"title\":{\"standoff\":15},\"zerolinecolor\":\"white\",\"automargin\":true,\"zerolinewidth\":2},\"scene\":{\"xaxis\":{\"backgroundcolor\":\"#E5ECF6\",\"gridcolor\":\"white\",\"linecolor\":\"white\",\"showbackground\":true,\"ticks\":\"\",\"zerolinecolor\":\"white\",\"gridwidth\":2},\"yaxis\":{\"backgroundcolor\":\"#E5ECF6\",\"gridcolor\":\"white\",\"linecolor\":\"white\",\"showbackground\":true,\"ticks\":\"\",\"zerolinecolor\":\"white\",\"gridwidth\":2},\"zaxis\":{\"backgroundcolor\":\"#E5ECF6\",\"gridcolor\":\"white\",\"linecolor\":\"white\",\"showbackground\":true,\"ticks\":\"\",\"zerolinecolor\":\"white\",\"gridwidth\":2}},\"shapedefaults\":{\"line\":{\"color\":\"#2a3f5f\"}},\"annotationdefaults\":{\"arrowcolor\":\"#2a3f5f\",\"arrowhead\":0,\"arrowwidth\":1},\"geo\":{\"bgcolor\":\"white\",\"landcolor\":\"#E5ECF6\",\"subunitcolor\":\"white\",\"showland\":true,\"showlakes\":true,\"lakecolor\":\"white\"},\"title\":{\"x\":0.05},\"mapbox\":{\"style\":\"light\"}}}},                        {\"responsive\": true}                    ).then(function(){\n",
              "                            \n",
              "var gd = document.getElementById('939f015b-199b-4cf1-8b15-a0ce65286758');\n",
              "var x = new MutationObserver(function (mutations, observer) {{\n",
              "        var display = window.getComputedStyle(gd).display;\n",
              "        if (!display || display === 'none') {{\n",
              "            console.log([gd, 'removed!']);\n",
              "            Plotly.purge(gd);\n",
              "            observer.disconnect();\n",
              "        }}\n",
              "}});\n",
              "\n",
              "// Listen for the removal of the full notebook cells\n",
              "var notebookContainer = gd.closest('#notebook-container');\n",
              "if (notebookContainer) {{\n",
              "    x.observe(notebookContainer, {childList: true});\n",
              "}}\n",
              "\n",
              "// Listen for the clearing of the current output cell\n",
              "var outputEl = gd.closest('.output');\n",
              "if (outputEl) {{\n",
              "    x.observe(outputEl, {childList: true});\n",
              "}}\n",
              "\n",
              "                        })                };                            </script>        </div>\n",
              "</body>\n",
              "</html>"
            ]
          },
          "metadata": {}
        }
      ]
    }
  ],
  "metadata": {
    "colab": {
      "provenance": []
    },
    "kernelspec": {
      "display_name": "Python 3",
      "name": "python3"
    },
    "language_info": {
      "name": "python"
    }
  },
  "nbformat": 4,
  "nbformat_minor": 0
}